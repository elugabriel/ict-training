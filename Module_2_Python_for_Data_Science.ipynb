{
  "nbformat": 4,
  "nbformat_minor": 0,
  "metadata": {
    "colab": {
      "provenance": [],
      "authorship_tag": "ABX9TyM6LdsMHaL9eMsXJrG5RY6i",
      "include_colab_link": true
    },
    "kernelspec": {
      "name": "python3",
      "display_name": "Python 3"
    },
    "language_info": {
      "name": "python"
    }
  },
  "cells": [
    {
      "cell_type": "markdown",
      "metadata": {
        "id": "view-in-github",
        "colab_type": "text"
      },
      "source": [
        "<a href=\"https://colab.research.google.com/github/elugabriel/Data-Science-Full-Course/blob/main/Module_2_Python_for_Data_Science.ipynb\" target=\"_parent\"><img src=\"https://colab.research.google.com/assets/colab-badge.svg\" alt=\"Open In Colab\"/></a>"
      ]
    },
    {
      "cell_type": "markdown",
      "source": [
        "# **Module 2: Python for Data Science**\n",
        "## Section 1: Variables and Data Types\n",
        "\n",
        "In Python, variables are used to store data values. Unlike many programming languages, Python does not require you to declare the type of variable explicitly.\n",
        "\n",
        "### What is a Variable?\n",
        "A variable is a name that refers to a value. In Python, you create a variable by assigning it a value using the `=` operator.\n",
        "\n",
        "### Basic Data Types in Python:\n",
        "- `int` (Integer): Whole numbers, e.g., `5`, `-10`\n",
        "- `float` (Floating-point number): Decimal numbers, e.g., `3.14`, `-0.01`\n",
        "- `str` (String): Sequence of characters, e.g., `\"hello\"`, `'Python'`\n",
        "- `bool` (Boolean): Logical values `True` or `False`\n",
        "- `None`: Represents the absence of a value\n",
        "\n",
        "Let’s see this in action:\n"
      ],
      "metadata": {
        "id": "6wShNMCRTbnV"
      }
    },
    {
      "cell_type": "code",
      "execution_count": null,
      "metadata": {
        "colab": {
          "base_uri": "https://localhost:8080/"
        },
        "id": "7fXdLOP6TM1_",
        "outputId": "87b070e4-25b5-4e09-f070-cbf67b9c2407"
      },
      "outputs": [
        {
          "output_type": "stream",
          "name": "stdout",
          "text": [
            "Integer: 10\n",
            "Float: 3.14\n",
            "String: Python\n",
            "Boolean: True\n",
            "NoneType: None\n"
          ]
        }
      ],
      "source": [
        "# Variable assignments with different data types\n",
        "x = 10              # Integer\n",
        "y = 3.14            # Float\n",
        "name = \"Python\"     # String\n",
        "is_active = True    # Boolean\n",
        "nothing = None      # NoneType\n",
        "\n",
        "# Display all\n",
        "print(\"Integer:\", x)\n",
        "print(\"Float:\", y)\n",
        "print(\"String:\", name)\n",
        "print(\"Boolean:\", is_active)\n",
        "print(\"NoneType:\", nothing)\n"
      ]
    },
    {
      "cell_type": "markdown",
      "source": [
        "## Section 2: Type Conversion\n",
        "\n",
        "Python provides built-in functions to convert between types:\n",
        "- `int()` converts to integer\n",
        "- `float()` converts to float\n",
        "- `str()` converts to string\n"
      ],
      "metadata": {
        "id": "hTGRMMW4UKfQ"
      }
    },
    {
      "cell_type": "code",
      "source": [
        "# Type Conversion examples\n",
        "a = \"123\"\n",
        "b = float(\"456.78\")\n",
        "c = 789\n",
        "\n",
        "# Conversions\n",
        "a_int = int(a)      # '123' → 123\n",
        "b_str = str(b)      # 456.78 → '456.78'\n",
        "c_float = float(c)  # 789 → 789.0\n",
        "\n",
        "print(\"a_int (int):\", a_int)\n",
        "print(\"b_str (str):\", b_str)\n",
        "print(\"c_float (float):\", c_float)\n"
      ],
      "metadata": {
        "colab": {
          "base_uri": "https://localhost:8080/"
        },
        "id": "lrYzXVp0UP4r",
        "outputId": "7a15580d-1d2b-4e26-996e-a67cdd0d4dec"
      },
      "execution_count": null,
      "outputs": [
        {
          "output_type": "stream",
          "name": "stdout",
          "text": [
            "a_int (int): 123\n",
            "b_str (str): 456.78\n",
            "c_float (float): 789.0\n"
          ]
        }
      ]
    },
    {
      "cell_type": "markdown",
      "source": [
        "## Section 3: Type Checking\n",
        "\n",
        "You can use `type()` to check the data type of a variable.\n",
        "You can also use `isinstance()` to check if a variable is of a specific type.\n"
      ],
      "metadata": {
        "id": "3KhMpqJxUbBa"
      }
    },
    {
      "cell_type": "code",
      "source": [
        "# Type Checking\n",
        "print(\"Type of x:\", type(x))\n",
        "print(\"Type of y:\", type(y))\n",
        "print(\"Type of name:\", type(name))\n",
        "print(\"Type of is_active:\", type(is_active))\n",
        "print(\"Type of nothing:\", type(nothing))\n",
        "\n",
        "# Using isinstance()\n",
        "print(\"Is x an int?\", isinstance(x, int))\n",
        "print(\"Is y a float?\", isinstance(y, float))\n",
        "print(\"Is name a str?\", isinstance(name, str))\n"
      ],
      "metadata": {
        "colab": {
          "base_uri": "https://localhost:8080/"
        },
        "id": "ADY00Mh9UftX",
        "outputId": "b28650df-be18-487f-f235-925f6c7c5cf4"
      },
      "execution_count": null,
      "outputs": [
        {
          "output_type": "stream",
          "name": "stdout",
          "text": [
            "Type of x: <class 'int'>\n",
            "Type of y: <class 'float'>\n",
            "Type of name: <class 'str'>\n",
            "Type of is_active: <class 'bool'>\n",
            "Type of nothing: <class 'NoneType'>\n",
            "Is x an int? True\n",
            "Is y a float? True\n",
            "Is name a str? True\n"
          ]
        }
      ]
    },
    {
      "cell_type": "markdown",
      "source": [
        "## Summary\n",
        "\n",
        "- Python variables do not need explicit type declarations.\n",
        "- Common data types include: int, float, str, bool, and NoneType.\n",
        "- Type conversion is done using `int()`, `float()`, `str()`.\n",
        "- Type checking can be performed using `type()` and `isinstance()`.\n",
        "\n",
        "In the next section, we'll explore working with data structures like lists, tuples, dictionaries, and sets.\n"
      ],
      "metadata": {
        "id": "v6yD9dSiV9QA"
      }
    },
    {
      "cell_type": "markdown",
      "source": [
        "## Section 2: Operators and Expressions\n",
        "\n",
        "Operators are special symbols in Python used to perform operations on variables and values. An expression is a combination of variables, operators, and values that yields a result.\n",
        "\n",
        "This section covers:\n",
        "- Arithmetic operators\n",
        "- Comparison operators\n",
        "- Logical operators\n",
        "- Assignment operators\n",
        "- Operator precedence\n"
      ],
      "metadata": {
        "id": "gssr6ydcWLRb"
      }
    },
    {
      "cell_type": "markdown",
      "source": [
        "### 1. Arithmetic Operators\n",
        "\n",
        "Used to perform mathematical operations.\n",
        "\n",
        "| Operator | Description     | Example       |\n",
        "|----------|-----------------|---------------|\n",
        "| `+`      | Addition         | `a + b`       |\n",
        "| `-`      | Subtraction      | `a - b`       |\n",
        "| `*`      | Multiplication   | `a * b`       |\n",
        "| `/`      | Division         | `a / b`       |\n",
        "| `//`     | Floor Division   | `a // b`      |\n",
        "| `%`      | Modulus          | `a % b`       |\n",
        "| `**`     | Exponentiation   | `a ** b`      |\n"
      ],
      "metadata": {
        "id": "fhFfJmPsWTaK"
      }
    },
    {
      "cell_type": "code",
      "source": [
        "# Arithmetic Operators\n",
        "a = 10\n",
        "b = 3\n",
        "\n",
        "print(\"Addition:\", a + b)\n",
        "print(\"Subtraction:\", a - b)\n",
        "print(\"Multiplication:\", a * b)\n",
        "print(\"Division:\", a / b)\n",
        "print(\"Floor Division:\", a // b)\n",
        "print(\"Modulus:\", a % b)\n",
        "print(\"Exponentiation:\", a ** b)\n"
      ],
      "metadata": {
        "colab": {
          "base_uri": "https://localhost:8080/"
        },
        "id": "3JBWn4eiWdL1",
        "outputId": "5e679fbc-ed2c-4807-a0d5-1069b6e317ed"
      },
      "execution_count": null,
      "outputs": [
        {
          "output_type": "stream",
          "name": "stdout",
          "text": [
            "Addition: 13\n",
            "Subtraction: 7\n",
            "Multiplication: 30\n",
            "Division: 3.3333333333333335\n",
            "Floor Division: 3\n",
            "Modulus: 1\n",
            "Exponentiation: 1000\n"
          ]
        }
      ]
    },
    {
      "cell_type": "markdown",
      "source": [
        "### 2. Comparison Operators\n",
        "\n",
        "Used to compare values. Always return a Boolean (`True` or `False`).\n",
        "\n",
        "| Operator | Description         | Example    |\n",
        "|----------|---------------------|------------|\n",
        "| `==`     | Equal to            | `a == b`   |\n",
        "| `!=`     | Not equal to        | `a != b`   |\n",
        "| `>`      | Greater than        | `a > b`    |\n",
        "| `<`      | Less than           | `a < b`    |\n",
        "| `>=`     | Greater or equal to | `a >= b`   |\n",
        "| `<=`     | Less or equal to    | `a <= b`   |\n"
      ],
      "metadata": {
        "id": "BxTIutjrWji0"
      }
    },
    {
      "cell_type": "code",
      "source": [
        "# Comparison Operators\n",
        "print(\"a == b:\", a == b)\n",
        "print(\"a != b:\", a != b)\n",
        "print(\"a > b:\", a > b)\n",
        "print(\"a < b:\", a < b)\n",
        "print(\"a >= b:\", a >= b)\n",
        "print(\"a <= b:\", a <= b)\n"
      ],
      "metadata": {
        "id": "lwQBFKp4WnQ2"
      },
      "execution_count": null,
      "outputs": []
    },
    {
      "cell_type": "markdown",
      "source": [
        "### 3. Logical Operators\n",
        "\n",
        "Used to combine conditional statements.\n",
        "\n",
        "| Operator | Description     | Example            |\n",
        "|----------|-----------------|--------------------|\n",
        "| `and`    | True if both are True | `a > 5 and b < 5` |\n",
        "| `or`     | True if at least one is True | `a > 5 or b > 5` |\n",
        "| `not`    | Negates the condition | `not(a > 5)`      |\n"
      ],
      "metadata": {
        "id": "JOgzXcguWrJ9"
      }
    },
    {
      "cell_type": "code",
      "source": [
        "# Logical Operators\n",
        "print(\"a > 5 and b < 5:\", a > 5 and b < 5)\n",
        "print(\"a > 5 or b > 5:\", a > 5 or b > 5)\n",
        "print(\"not(a > 5):\", not(a > 5))\n"
      ],
      "metadata": {
        "colab": {
          "base_uri": "https://localhost:8080/"
        },
        "id": "nXCr0c7XWyd5",
        "outputId": "f4540934-388b-4492-f890-81a73f25722e"
      },
      "execution_count": null,
      "outputs": [
        {
          "output_type": "stream",
          "name": "stdout",
          "text": [
            "a > 5 and b < 5: True\n",
            "a > 5 or b > 5: True\n",
            "not(a > 5): False\n"
          ]
        }
      ]
    },
    {
      "cell_type": "markdown",
      "source": [
        "### 4. Assignment Operators\n",
        "\n",
        "Used to assign values to variables.\n",
        "\n",
        "| Operator | Example   | Equivalent to |\n",
        "|----------|-----------|---------------|\n",
        "| `=`      | `x = 5`   | `x = 5`       |\n",
        "| `+=`     | `x += 3`  | `x = x + 3`   |\n",
        "| `-=`     | `x -= 2`  | `x = x - 2`   |\n",
        "| `*=`     | `x *= 4`  | `x = x * 4`   |\n",
        "| `/=`     | `x /= 2`  | `x = x / 2`   |\n",
        "| `//=`    | `x //= 2` | `x = x // 2`  |\n",
        "| `%=`     | `x %= 3`  | `x = x % 3`   |\n",
        "| `**=`    | `x **= 2` | `x = x ** 2`  |\n"
      ],
      "metadata": {
        "id": "tNMOzi0jWwtG"
      }
    },
    {
      "cell_type": "code",
      "source": [
        "# Assignment Operators\n",
        "x = 10\n",
        "print(\"Initial x:\", x)\n",
        "\n",
        "x += 5\n",
        "print(\"After += 5:\", x)\n",
        "\n",
        "x *= 2\n",
        "print(\"After *= 2:\", x)\n",
        "\n",
        "x -= 3\n",
        "print(\"After -= 3:\", x)\n",
        "\n",
        "x **= 2\n",
        "print(\"After **= 2:\", x)\n"
      ],
      "metadata": {
        "id": "UQjoffGYW9n4"
      },
      "execution_count": null,
      "outputs": []
    },
    {
      "cell_type": "markdown",
      "source": [
        "### 5. Operator Precedence\n",
        "\n",
        "When multiple operators are used in a single expression, Python follows a specific order (PEMDAS):\n",
        "\n",
        "1. `()` – Parentheses\n",
        "2. `**` – Exponentiation\n",
        "3. `*`, `/`, `//`, `%` – Multiplication, Division, Floor Division, Modulus\n",
        "4. `+`, `-` – Addition and Subtraction\n",
        "5. Comparisons\n",
        "6. Logical NOT\n",
        "7. Logical AND\n",
        "8. Logical OR\n"
      ],
      "metadata": {
        "id": "kbpO7nN6XAmJ"
      }
    },
    {
      "cell_type": "code",
      "source": [
        "# Operator Precedence Example\n",
        "result = (3 + 2) * 5 ** 2 / 10 - 4\n",
        "\n",
        "print(\"Result of (3 + 2) * 5 ** 2 / 10 - 4:\", result)\n"
      ],
      "metadata": {
        "id": "ixSiK5nJXE-Q"
      },
      "execution_count": null,
      "outputs": []
    },
    {
      "cell_type": "markdown",
      "source": [
        "## Summary\n",
        "\n",
        "- Python supports arithmetic, comparison, logical, and assignment operators.\n",
        "- Operator precedence determines how expressions are evaluated.\n",
        "- Use parentheses to make expressions clearer and control evaluation order.\n",
        "\n"
      ],
      "metadata": {
        "id": "2yNgu5dOXJwr"
      }
    },
    {
      "cell_type": "markdown",
      "source": [
        "## Section 3: Working with Strings\n",
        "\n",
        "Strings are sequences of characters enclosed in quotes. They are essential in data science for handling textual data like names, labels, descriptions, etc.\n"
      ],
      "metadata": {
        "id": "0e44aUagXhQF"
      }
    },
    {
      "cell_type": "markdown",
      "source": [
        "### 1. String Creation and Formatting\n",
        "\n",
        "You can use single, double, or triple quotes to define a string.\n",
        "Use f-strings or the `.format()` method to insert variables.\n"
      ],
      "metadata": {
        "id": "oCr5NoPQXp50"
      }
    },
    {
      "cell_type": "code",
      "source": [
        "# String Creation\n",
        "name = 'Ayomide'\n",
        "greeting = \"Hello\"\n",
        "multiline = \"\"\"This is\n",
        "a multiline string.\"\"\"\n",
        "\n",
        "# String Formatting\n",
        "age = 25\n",
        "print(f\"My name is {name} and I am {age} years old.\")  # f-string\n",
        "print(\"My name is {} and I am {} years old.\".format(name, age))  # format()\n"
      ],
      "metadata": {
        "colab": {
          "base_uri": "https://localhost:8080/"
        },
        "id": "v7v8xKeTXutT",
        "outputId": "f85e293c-739e-46c6-faed-b05f2b9ec2fb"
      },
      "execution_count": null,
      "outputs": [
        {
          "output_type": "stream",
          "name": "stdout",
          "text": [
            "My name is Ayomide and I am 25 years old.\n",
            "My name is Ayomide and I am 25 years old.\n"
          ]
        }
      ]
    },
    {
      "cell_type": "markdown",
      "source": [
        "### 2. String Methods\n",
        "\n",
        "Python provides many built-in string methods:\n",
        "- `split()` – Splits a string into a list\n",
        "- `join()` – Joins a list into a string\n",
        "- `replace()` – Replaces characters\n",
        "- `lower()`, `upper()`, `capitalize()`, `strip()`, etc.\n"
      ],
      "metadata": {
        "id": "sz1tnLUuYZ1i"
      }
    },
    {
      "cell_type": "code",
      "source": [
        "sentence = \"  Data Science is Powerful and Practical!  \"\n",
        "words = sentence.split()\n",
        "print(\"Split:\", words)\n",
        "\n",
        "joined = \"-\".join(words)\n",
        "print(\"Joined:\", joined)\n",
        "\n",
        "replaced = sentence.replace(\"Powerful\", \"Awesome\")\n",
        "print(\"Replaced:\", replaced)\n",
        "\n",
        "print(\"Lowercase:\", sentence.lower())\n",
        "print(\"Uppercase:\", sentence.upper())\n",
        "print(\"Capitalized:\", sentence.capitalize())\n",
        "print(\"Stripped:\", sentence.strip())  # removes leading/trailing whitespace\n"
      ],
      "metadata": {
        "colab": {
          "base_uri": "https://localhost:8080/"
        },
        "id": "n3-5d-UlYfyi",
        "outputId": "fe97c677-e80f-4dd9-d480-c581b2cd6009"
      },
      "execution_count": null,
      "outputs": [
        {
          "output_type": "stream",
          "name": "stdout",
          "text": [
            "Split: ['Data', 'Science', 'is', 'Powerful', 'and', 'Practical!']\n",
            "Joined: Data-Science-is-Powerful-and-Practical!\n",
            "Replaced:   Data Science is Awesome and Practical!  \n",
            "Lowercase:   data science is powerful and practical!  \n",
            "Uppercase:   DATA SCIENCE IS POWERFUL AND PRACTICAL!  \n",
            "Capitalized:   data science is powerful and practical!  \n",
            "Stripped: Data Science is Powerful and Practical!\n"
          ]
        }
      ]
    },
    {
      "cell_type": "markdown",
      "source": [
        "### 3. Indexing and Slicing\n",
        "\n",
        "Strings are indexed starting from 0.\n",
        "You can access characters using square brackets and slice them using `[start:stop:step]`.\n"
      ],
      "metadata": {
        "id": "TA1-xuxZYsxU"
      }
    },
    {
      "cell_type": "code",
      "source": [
        "text = \"DataScience\"\n",
        "\n",
        "print(\"First character:\", text[0])\n",
        "print(\"Last character:\", text[-1])\n",
        "\n",
        "# Slicing\n",
        "print(\"First 4 chars:\", text[:4])\n",
        "print(\"Middle part:\", text[4:8])\n",
        "print(\"Every 2nd char:\", text[::2])\n"
      ],
      "metadata": {
        "id": "M_pMuA2CYxiJ"
      },
      "execution_count": null,
      "outputs": []
    },
    {
      "cell_type": "markdown",
      "source": [
        "### 4. Immutability and Escaping Characters\n",
        "\n",
        "Strings in Python are immutable, meaning they cannot be changed after creation.\n",
        "\n",
        "To use special characters, use escape sequences:\n",
        "- `\\'`, `\\\"` – Quote characters\n",
        "- `\\\\` – Backslash\n",
        "- `\\n`, `\\t` – Newline, Tab\n"
      ],
      "metadata": {
        "id": "CzbfPrfWYytw"
      }
    },
    {
      "cell_type": "code",
      "source": [
        "# Immutability\n",
        "original = \"Data\"\n",
        "# original[0] = \"d\"  # ❌ This will raise an error\n",
        "\n",
        "# Escape characters\n",
        "escaped = \"She said, \\\"Data Science is awesome!\\\"\\nLet's learn more.\\tReady?\"\n",
        "print(escaped)\n"
      ],
      "metadata": {
        "colab": {
          "base_uri": "https://localhost:8080/"
        },
        "id": "HkIDo_PVY_s5",
        "outputId": "861eb229-6e4c-4558-a979-8e050cceaf15"
      },
      "execution_count": null,
      "outputs": [
        {
          "output_type": "stream",
          "name": "stdout",
          "text": [
            "She said, \"Data Science is awesome!\"\n",
            "Let's learn more.\tReady?\n"
          ]
        }
      ]
    },
    {
      "cell_type": "markdown",
      "source": [
        "## Summary\n",
        "\n",
        "- Strings are immutable sequences of characters.\n",
        "- Use string methods for cleaning and transforming text.\n",
        "- Format strings with f-strings or `.format()`.\n",
        "- Escape special characters to handle quotes and control characters.\n",
        "\n"
      ],
      "metadata": {
        "id": "10rMJPADZMZM"
      }
    },
    {
      "cell_type": "markdown",
      "source": [
        "## Section 5: Control Flow\n",
        "\n",
        "Control flow allows programs to make decisions and execute different blocks of code based on conditions or repetition. It includes conditional statements, loops, and loop control keywords.\n"
      ],
      "metadata": {
        "id": "2uY8cLNOZgyf"
      }
    },
    {
      "cell_type": "markdown",
      "source": [
        "### 1. Conditional Statements: `if`, `elif`, `else`\n",
        "\n",
        "Conditional statements are used to perform different actions based on different conditions.\n"
      ],
      "metadata": {
        "id": "vn9dTrXwZmHK"
      }
    },
    {
      "cell_type": "code",
      "source": [
        "# Conditional example\n",
        "age = 20\n",
        "\n",
        "if age < 18:\n",
        "    print(\"You are a minor.\")\n",
        "elif 18 <= age < 65:\n",
        "    print(\"You are an adult.\")\n",
        "else:\n",
        "    print(\"You are a senior.\")\n"
      ],
      "metadata": {
        "colab": {
          "base_uri": "https://localhost:8080/"
        },
        "id": "MFu0gE05Zq3F",
        "outputId": "c69e79c3-c85c-48b1-ad3c-6f0a790febb5"
      },
      "execution_count": null,
      "outputs": [
        {
          "output_type": "stream",
          "name": "stdout",
          "text": [
            "You are an adult.\n"
          ]
        }
      ]
    },
    {
      "cell_type": "markdown",
      "source": [
        "### 2. Loops: `for` and `while`\n",
        "\n",
        "- `for` loops iterate over a sequence (like a list or range).\n",
        "- `while` loops run as long as a condition is true.\n"
      ],
      "metadata": {
        "id": "zgPz0aHLZxSZ"
      }
    },
    {
      "cell_type": "code",
      "source": [
        "# For loop example\n",
        "print(\"For Loop:\")\n",
        "for i in range(5):  # 0 to 4\n",
        "    print(f\"Iteration {i}\")\n",
        "\n"
      ],
      "metadata": {
        "colab": {
          "base_uri": "https://localhost:8080/"
        },
        "id": "r454371VZ7vH",
        "outputId": "d66f3bcc-7d62-40df-8321-a3076042b9ee"
      },
      "execution_count": null,
      "outputs": [
        {
          "output_type": "stream",
          "name": "stdout",
          "text": [
            "For Loop:\n",
            "Iteration 0\n",
            "Iteration 1\n",
            "Iteration 2\n",
            "Iteration 3\n",
            "Iteration 4\n"
          ]
        }
      ]
    },
    {
      "cell_type": "code",
      "source": [
        "# While loop example\n",
        "print(\"\\nWhile Loop:\")\n",
        "count = 0\n",
        "while count < 3:\n",
        "    print(f\"Count is {count}\")\n",
        "    count += 1\n"
      ],
      "metadata": {
        "colab": {
          "base_uri": "https://localhost:8080/"
        },
        "id": "toMEumjRaCT_",
        "outputId": "35a751b3-17f2-4181-f3c3-1b018836686b"
      },
      "execution_count": null,
      "outputs": [
        {
          "output_type": "stream",
          "name": "stdout",
          "text": [
            "\n",
            "While Loop:\n",
            "Count is 0\n",
            "Count is 1\n",
            "Count is 2\n"
          ]
        }
      ]
    },
    {
      "cell_type": "markdown",
      "source": [
        "### 3. Loop Control: `break`, `continue`, `pass`\n",
        "\n",
        "- `break` stops the loop entirely.\n",
        "- `continue` skips the current iteration and moves to the next.\n",
        "- `pass` is a placeholder and does nothing.\n"
      ],
      "metadata": {
        "id": "aQeIIpREaNV5"
      }
    },
    {
      "cell_type": "code",
      "source": [
        "# Break and Continue\n",
        "print(\"Using break and continue:\")\n",
        "for num in range(1, 6):\n",
        "    if num == 3:\n",
        "        print(\"Skipping 3\")\n",
        "        continue\n",
        "    if num == 5:\n",
        "        print(\"Breaking on 5\")\n",
        "        break\n",
        "    print(f\"Number: {num}\")\n",
        "\n",
        "# Pass example\n",
        "for _ in range(3):\n",
        "    pass  # placeholder for future code\n"
      ],
      "metadata": {
        "colab": {
          "base_uri": "https://localhost:8080/"
        },
        "id": "Am21IHkkaQuh",
        "outputId": "9b2f0ef8-8f3c-4726-8e1f-c05d30404a1d"
      },
      "execution_count": null,
      "outputs": [
        {
          "output_type": "stream",
          "name": "stdout",
          "text": [
            "Using break and continue:\n",
            "Number: 1\n",
            "Number: 2\n",
            "Skipping 3\n",
            "Number: 4\n",
            "Breaking on 5\n"
          ]
        }
      ]
    },
    {
      "cell_type": "markdown",
      "source": [
        "### 4. `range()` and Iterables\n",
        "\n",
        "- `range(start, stop, step)` generates a sequence of numbers.\n",
        "- Iterables (like lists, strings, etc.) can be looped through using `for`.\n"
      ],
      "metadata": {
        "id": "lPhJUxlKacSD"
      }
    },
    {
      "cell_type": "code",
      "source": [
        "# Using range\n",
        "print(\"Range Example:\")\n",
        "for i in range(2, 10, 2):  # even numbers from 2 to 8\n",
        "    print(i)\n",
        "\n",
        "# Looping through a string\n",
        "print(\"\\nIterating over string:\")\n",
        "for char in \"Data\":\n",
        "    print(char)\n"
      ],
      "metadata": {
        "colab": {
          "base_uri": "https://localhost:8080/"
        },
        "id": "_RJ3y1eWae-E",
        "outputId": "31414022-420d-4ff1-e968-1a405b092e99"
      },
      "execution_count": null,
      "outputs": [
        {
          "output_type": "stream",
          "name": "stdout",
          "text": [
            "Range Example:\n",
            "2\n",
            "4\n",
            "6\n",
            "8\n",
            "\n",
            "Iterating over string:\n",
            "D\n",
            "a\n",
            "t\n",
            "a\n"
          ]
        }
      ]
    },
    {
      "cell_type": "markdown",
      "source": [
        "## Summary\n",
        "\n",
        "- `if`, `elif`, `else` control decision-making.\n",
        "- Loops repeat code: `for` for known sequences, `while` for unknown.\n",
        "- `break`, `continue`, `pass` control flow inside loops.\n",
        "- `range()` is useful for numeric loops; strings and lists are iterables too.\n",
        "\n"
      ],
      "metadata": {
        "id": "a6ktFzKFamvk"
      }
    },
    {
      "cell_type": "markdown",
      "source": [
        "## Section 5: Functions and Scope\n",
        "\n",
        "Functions are reusable blocks of code that help structure and modularize your programs. Understanding how to define functions, use parameters and arguments, and manage scope is fundamental to Python programming.\n"
      ],
      "metadata": {
        "id": "9M2RJeLAcay7"
      }
    },
    {
      "cell_type": "markdown",
      "source": [
        "### 1. Defining Functions with `def`\n",
        "\n",
        "Functions are defined using the `def` keyword followed by a name, parameters (if any), and a code block.\n"
      ],
      "metadata": {
        "id": "HNIlBYWxcgzS"
      }
    },
    {
      "cell_type": "code",
      "source": [
        "# Defining and calling a simple function\n",
        "def greet():\n",
        "    print(\"Hello, welcome to Python!\")\n",
        "\n",
        "greet()\n"
      ],
      "metadata": {
        "colab": {
          "base_uri": "https://localhost:8080/"
        },
        "id": "iG4kJCO9cltm",
        "outputId": "b0e0c466-cb75-4c59-c611-635546e80cd7"
      },
      "execution_count": null,
      "outputs": [
        {
          "output_type": "stream",
          "name": "stdout",
          "text": [
            "Hello, welcome to Python!\n"
          ]
        }
      ]
    },
    {
      "cell_type": "markdown",
      "source": [
        "### 2. Parameters, Arguments, and Return Values\n",
        "\n",
        "- **Parameters** are variables in function definitions.\n",
        "- **Arguments** are the actual values passed to the function.\n",
        "- **Return** is used to send back a result.\n"
      ],
      "metadata": {
        "id": "xdrEJ8N9crHP"
      }
    },
    {
      "cell_type": "code",
      "source": [
        "# Function with parameters and return value\n",
        "def add(x, y):\n",
        "    return x + y\n",
        "\n",
        "result = add(5, 3)\n",
        "print(\"Sum:\", result)\n"
      ],
      "metadata": {
        "id": "BHS3MRc7cvuJ"
      },
      "execution_count": null,
      "outputs": []
    },
    {
      "cell_type": "markdown",
      "source": [
        "### 3. Default Arguments and Keyword Arguments\n",
        "\n",
        "- Default arguments are used when no value is provided.\n",
        "- Keyword arguments make code more readable by explicitly naming the parameters."
      ],
      "metadata": {
        "id": "6imTOC1Ncy86"
      }
    },
    {
      "cell_type": "code",
      "source": [
        "# Function with default and keyword arguments\n",
        "def greet(name=\"User\", greeting=\"Hello\"):\n",
        "    print(f\"{greeting}, {name}!\")\n",
        "\n",
        "greet()  # uses default values\n",
        "greet(\"Alice\")  # custom name\n",
        "greet(greeting=\"Hi\", name=\"Bob\")  # keyword args\n"
      ],
      "metadata": {
        "id": "wWjPxIL8c3vI"
      },
      "execution_count": null,
      "outputs": []
    },
    {
      "cell_type": "markdown",
      "source": [
        "### 4. Variable Scope: Local vs Global\n",
        "\n",
        "- **Local variables** exist only inside the function.\n",
        "- **Global variables** exist throughout the program.\n"
      ],
      "metadata": {
        "id": "BuBkngMrdkga"
      }
    },
    {
      "cell_type": "code",
      "source": [
        "# Global and local scope example\n",
        "message = \"Global Message\"\n",
        "\n",
        "def show_message():\n",
        "    message = \"Local Message\"\n",
        "    print(\"Inside function:\", message)\n",
        "\n",
        "show_message()\n",
        "print(\"Outside function:\", message)\n"
      ],
      "metadata": {
        "id": "npGXgNn1dobQ"
      },
      "execution_count": null,
      "outputs": []
    },
    {
      "cell_type": "code",
      "source": [
        "# Modifying global variable from inside a function\n",
        "count = 0\n",
        "\n",
        "def increment():\n",
        "    global count  # allows modification of global variable\n",
        "    count += 1\n",
        "\n",
        "increment()\n",
        "print(\"Global count:\", count)\n"
      ],
      "metadata": {
        "id": "J3gpk_RcdsKU"
      },
      "execution_count": null,
      "outputs": []
    },
    {
      "cell_type": "markdown",
      "source": [
        "## Summary\n",
        "\n",
        "- Functions help you reuse and organize code.\n",
        "- You can pass values (arguments) and return results.\n",
        "- Default and keyword arguments add flexibility.\n",
        "- Scope determines where variables are accessible (local vs global).\n"
      ],
      "metadata": {
        "id": "RJEN-GBedxU6"
      }
    },
    {
      "cell_type": "markdown",
      "source": [
        "## Section 7: Data Structures in Python\n",
        "\n",
        "Python provides built-in data structures that are flexible and powerful for storing collections of data. In this section, we cover:\n",
        "\n",
        "- Lists  \n",
        "- Tuples  \n",
        "- Sets  \n",
        "- Dictionaries\n"
      ],
      "metadata": {
        "id": "uvwIDkf4eQTk"
      }
    },
    {
      "cell_type": "markdown",
      "source": [
        "## 1. Lists\n",
        "\n",
        "A list is an ordered, mutable collection of items. Lists can hold elements of different data types.\n"
      ],
      "metadata": {
        "id": "ywqX5IW0eVBu"
      }
    },
    {
      "cell_type": "code",
      "source": [
        "# Creating and accessing lists\n",
        "fruits = [\"apple\", \"banana\", \"cherry\"]\n",
        "\n"
      ],
      "metadata": {
        "id": "ET9oJ6SseYdx"
      },
      "execution_count": null,
      "outputs": []
    },
    {
      "cell_type": "code",
      "source": [
        "# Indexing\n",
        "print(fruits[0])  # 'apple'"
      ],
      "metadata": {
        "colab": {
          "base_uri": "https://localhost:8080/"
        },
        "id": "5bGtGXy4ee69",
        "outputId": "b07d461c-915d-4f6e-a106-5b4c24e7c397"
      },
      "execution_count": null,
      "outputs": [
        {
          "output_type": "stream",
          "name": "stdout",
          "text": [
            "apple\n"
          ]
        }
      ]
    },
    {
      "cell_type": "code",
      "source": [
        "# Slicing\n",
        "print(fruits[1:])  # ['banana', 'cherry']\n"
      ],
      "metadata": {
        "colab": {
          "base_uri": "https://localhost:8080/"
        },
        "id": "Tr72OaPAeiLe",
        "outputId": "aa6b4ab9-0740-48ab-8426-87b80b8ac571"
      },
      "execution_count": null,
      "outputs": [
        {
          "output_type": "stream",
          "name": "stdout",
          "text": [
            "['banana', 'cherry']\n"
          ]
        }
      ]
    },
    {
      "cell_type": "code",
      "source": [
        "# List comprehension\n",
        "squares = [x**2 for x in range(5)]\n",
        "print(\"Squares:\", squares)"
      ],
      "metadata": {
        "id": "v-p1UOG1eksO"
      },
      "execution_count": null,
      "outputs": []
    },
    {
      "cell_type": "markdown",
      "source": [
        "## 2. Tuples\n",
        "\n",
        "Tuples are similar to lists but immutable. They cannot be changed once defined.\n"
      ],
      "metadata": {
        "id": "SZDt3xiyfEkm"
      }
    },
    {
      "cell_type": "code",
      "source": [
        "# Creating and accessing tuples\n",
        "coordinates = (10.5, 20.3)\n",
        "\n",
        "print(\"X:\", coordinates[0])\n",
        "print(\"Y:\", coordinates[1])\n",
        "\n",
        "# Tuples can be unpacked\n",
        "x, y = coordinates\n",
        "print(\"Unpacked:\", x, y)\n"
      ],
      "metadata": {
        "colab": {
          "base_uri": "https://localhost:8080/"
        },
        "id": "R1l44FIcfHP1",
        "outputId": "4c1c33c8-4f37-489e-9e0b-48bd15ecaae7"
      },
      "execution_count": null,
      "outputs": [
        {
          "output_type": "stream",
          "name": "stdout",
          "text": [
            "X: 10.5\n",
            "Y: 20.3\n",
            "Unpacked: 10.5 20.3\n"
          ]
        }
      ]
    },
    {
      "cell_type": "markdown",
      "source": [
        "## 3. Sets\n",
        "\n",
        "Sets are unordered collections of unique elements. They support mathematical set operations.\n"
      ],
      "metadata": {
        "id": "4GLIfPrqfTI8"
      }
    },
    {
      "cell_type": "code",
      "source": [
        "# Creating and using sets\n",
        "a = {1, 2, 3, 4}\n",
        "b = {3, 4, 5, 6}\n",
        "\n",
        "print(\"Union:\", a | b)\n",
        "print(\"Intersection:\", a & b)\n",
        "print(\"Difference:\", a - b)\n",
        "print(\"Unique elements:\", set([1, 1, 2, 2, 3]))\n"
      ],
      "metadata": {
        "colab": {
          "base_uri": "https://localhost:8080/"
        },
        "id": "g1W8SsHMfUFm",
        "outputId": "ef3067b9-e24c-4598-94ba-bcf4a9e01d4c"
      },
      "execution_count": null,
      "outputs": [
        {
          "output_type": "stream",
          "name": "stdout",
          "text": [
            "Union: {1, 2, 3, 4, 5, 6}\n",
            "Intersection: {3, 4}\n",
            "Difference: {1, 2}\n",
            "Unique elements: {1, 2, 3}\n"
          ]
        }
      ]
    },
    {
      "cell_type": "markdown",
      "source": [
        "## 4. Dictionaries\n",
        "\n",
        "Dictionaries store key-value pairs. They are useful for mapping and fast lookups.\n"
      ],
      "metadata": {
        "id": "tY_SQiuVfaZR"
      }
    },
    {
      "cell_type": "code",
      "source": [
        "# Creating and using dictionaries\n",
        "person = {\n",
        "    \"name\": \"Alice\",\n",
        "    \"age\": 30,\n",
        "    \"city\": \"Lagos\"\n",
        "}\n",
        "\n",
        "# Accessing values\n",
        "print(person[\"name\"])\n",
        "\n",
        "# Using .get() to avoid KeyError\n",
        "print(person.get(\"gender\", \"Not specified\"))\n",
        "\n",
        "# Updating values\n",
        "person.update({\"age\": 31})\n",
        "print(person)\n",
        "\n",
        "# Looping through items\n",
        "for key, value in person.items():\n",
        "    print(f\"{key}: {value}\")\n"
      ],
      "metadata": {
        "colab": {
          "base_uri": "https://localhost:8080/"
        },
        "id": "uW9S0b9cfdgu",
        "outputId": "fdb75948-c2b4-42ec-adcd-e78576f92f62"
      },
      "execution_count": null,
      "outputs": [
        {
          "output_type": "stream",
          "name": "stdout",
          "text": [
            "Alice\n",
            "Not specified\n",
            "{'name': 'Alice', 'age': 31, 'city': 'Lagos'}\n",
            "name: Alice\n",
            "age: 31\n",
            "city: Lagos\n"
          ]
        }
      ]
    },
    {
      "cell_type": "markdown",
      "source": [
        "## Summary\n",
        "\n",
        "- **Lists** are ordered and mutable.\n",
        "- **Tuples** are ordered and immutable.\n",
        "- **Sets** are unordered and contain unique items.\n",
        "- **Dictionaries** store data as key-value pairs.\n",
        "\n"
      ],
      "metadata": {
        "id": "T1bpH3OMfhBp"
      }
    },
    {
      "cell_type": "markdown",
      "source": [
        "## Section 7: File Handling, Error Handling, and Debugging\n",
        "\n",
        "In data science, reading and writing files—especially CSV and JSON—is essential. This section also covers how to manage directories, handle exceptions, and debug your Python code efficiently.\n"
      ],
      "metadata": {
        "id": "FZHwTUcggR4d"
      }
    },
    {
      "cell_type": "markdown",
      "source": [
        "## 1. Reading and Writing Text Files\n",
        "\n",
        "Python’s `open()` function allows you to read from and write to files. The `with` statement is recommended because it automatically handles file closing.\n"
      ],
      "metadata": {
        "id": "g4guokQNga2k"
      }
    },
    {
      "cell_type": "code",
      "source": [
        "# Writing to a file\n",
        "with open(\"sample.txt\", \"w\") as file:\n",
        "    file.write(\"Hello, world!\\nWelcome to file handling in Python.\")\n"
      ],
      "metadata": {
        "colab": {
          "base_uri": "https://localhost:8080/"
        },
        "id": "pUtHG5Wmfgen",
        "outputId": "a7168abb-88f6-47c4-de89-b64d452cb53d"
      },
      "execution_count": null,
      "outputs": [
        {
          "output_type": "stream",
          "name": "stdout",
          "text": [
            "File Content:\n",
            " Hello, world!\n",
            "Welcome to file handling in Python.\n"
          ]
        }
      ]
    },
    {
      "cell_type": "code",
      "source": [
        "# Reading from a file\n",
        "with open(\"sample.txt\", \"r\") as file:\n",
        "    content = file.read()\n",
        "\n",
        "print(\"File Content:\\n\", content)\n"
      ],
      "metadata": {
        "colab": {
          "base_uri": "https://localhost:8080/"
        },
        "id": "Qux2HGV_grhQ",
        "outputId": "a928f93d-cacf-44f7-a0b2-8fdf9378e049"
      },
      "execution_count": null,
      "outputs": [
        {
          "output_type": "stream",
          "name": "stdout",
          "text": [
            "File Content:\n",
            " Hello, world!\n",
            "Welcome to file handling in Python.\n"
          ]
        }
      ]
    },
    {
      "cell_type": "markdown",
      "source": [
        "## 2. Working with CSV and JSON Files\n",
        "\n",
        "Python provides the `csv` and `json` modules to handle structured file formats.\n"
      ],
      "metadata": {
        "id": "uxymz2sOg4Gt"
      }
    },
    {
      "cell_type": "code",
      "source": [
        "import csv\n",
        "import json\n",
        "\n",
        "# CSV Example\n",
        "with open(\"data.csv\", \"w\", newline=\"\") as f:\n",
        "    writer = csv.writer(f)\n",
        "    writer.writerow([\"Name\", \"Age\"])\n",
        "    writer.writerow([\"Alice\", 30])\n",
        "    writer.writerow([\"Bob\", 25])\n",
        "\n"
      ],
      "metadata": {
        "colab": {
          "base_uri": "https://localhost:8080/"
        },
        "id": "GPQW0kbNg-hT",
        "outputId": "c10b6909-7661-45b2-a126-1f19a406c4d6"
      },
      "execution_count": null,
      "outputs": [
        {
          "output_type": "stream",
          "name": "stdout",
          "text": [
            "['Name', 'Age']\n",
            "['Alice', '30']\n",
            "['Bob', '25']\n",
            "JSON Loaded: {'name': 'Alice', 'age': 30, 'city': 'Lagos'}\n"
          ]
        }
      ]
    },
    {
      "cell_type": "code",
      "source": [
        "# Read CSV\n",
        "with open(\"data.csv\", \"r\") as f:\n",
        "    reader = csv.reader(f)\n",
        "    for row in reader:\n",
        "        print(row)\n",
        "\n"
      ],
      "metadata": {
        "id": "YkS2FIxOhHVY"
      },
      "execution_count": null,
      "outputs": []
    },
    {
      "cell_type": "code",
      "source": [
        "# JSON Example\n",
        "person = {\"name\": \"Alice\", \"age\": 30, \"city\": \"Lagos\"}\n",
        "\n"
      ],
      "metadata": {
        "id": "erFVh_owhJNJ"
      },
      "execution_count": null,
      "outputs": []
    },
    {
      "cell_type": "code",
      "source": [
        "# Write JSON\n",
        "with open(\"person.json\", \"w\") as f:\n",
        "    json.dump(person, f)\n",
        "\n"
      ],
      "metadata": {
        "id": "u9z4EM5_hLt_"
      },
      "execution_count": null,
      "outputs": []
    },
    {
      "cell_type": "code",
      "source": [
        "# Read JSON\n",
        "with open(\"person.json\", \"r\") as f:\n",
        "    loaded_person = json.load(f)\n",
        "\n",
        "print(\"JSON Loaded:\", loaded_person)\n"
      ],
      "metadata": {
        "id": "ejPue0l_hN9I"
      },
      "execution_count": null,
      "outputs": []
    },
    {
      "cell_type": "markdown",
      "source": [
        "## 3. Directory Management with `os` and `pathlib`\n",
        "\n",
        "These modules allow you to manage files and directories.\n"
      ],
      "metadata": {
        "id": "1WQ8Bzqyhod7"
      }
    },
    {
      "cell_type": "code",
      "source": [
        "import os\n",
        "from pathlib import Path\n",
        "\n",
        "# Using os\n",
        "print(\"Current Directory:\", os.getcwd())\n",
        "os.makedirs(\"demo_folder\", exist_ok=True)\n",
        "\n",
        "# Using pathlib\n",
        "p = Path(\"demo_folder/example.txt\")\n",
        "p.write_text(\"This is a test using pathlib.\")\n",
        "print(\"File exists:\", p.exists())\n"
      ],
      "metadata": {
        "colab": {
          "base_uri": "https://localhost:8080/"
        },
        "id": "4AtujEkchsO5",
        "outputId": "e175f542-8540-4540-a2fb-c11b7c609ffc"
      },
      "execution_count": null,
      "outputs": [
        {
          "output_type": "stream",
          "name": "stdout",
          "text": [
            "Current Directory: /content\n",
            "File exists: True\n"
          ]
        }
      ]
    },
    {
      "cell_type": "markdown",
      "source": [
        "## 4. Error Handling and Debugging\n",
        "\n",
        "### `try`-`except` Blocks\n",
        "\n",
        "Use `try-except` to handle errors gracefully without crashing your program.\n"
      ],
      "metadata": {
        "id": "Dvvh5h-IiGW7"
      }
    },
    {
      "cell_type": "code",
      "source": [
        "# Basic error handling\n",
        "try:\n",
        "    result = 10 / 0\n",
        "except ZeroDivisionError:\n",
        "    print(\"You can't divide by zero!\")\n",
        "\n",
        "# Catching multiple exceptions\n",
        "try:\n",
        "    value = int(\"abc\")\n",
        "except (ValueError, TypeError) as e:\n",
        "    print(\"Error:\", e)\n"
      ],
      "metadata": {
        "colab": {
          "base_uri": "https://localhost:8080/"
        },
        "id": "UA-_rz-siKQD",
        "outputId": "7e8f2ec8-6717-4973-8449-29d1f59c6df5"
      },
      "execution_count": null,
      "outputs": [
        {
          "output_type": "stream",
          "name": "stdout",
          "text": [
            "You can't divide by zero!\n",
            "Error: invalid literal for int() with base 10: 'abc'\n"
          ]
        }
      ]
    },
    {
      "cell_type": "markdown",
      "source": [
        "### Raising Exceptions\n",
        "\n",
        "You can use `raise` to trigger custom errors.\n"
      ],
      "metadata": {
        "id": "kVqk6iyViTE9"
      }
    },
    {
      "cell_type": "code",
      "source": [
        "def check_age(age):\n",
        "    if age < 0:\n",
        "        raise ValueError(\"Age cannot be negative.\")\n",
        "    return age\n",
        "\n",
        "try:\n",
        "    check_age(-5)\n",
        "except ValueError as ve:\n",
        "    print(\"Raised Exception:\", ve)\n"
      ],
      "metadata": {
        "colab": {
          "base_uri": "https://localhost:8080/"
        },
        "id": "aX-iTAm-iV5l",
        "outputId": "a281a3ce-701e-41aa-9935-62c1fcc77fda"
      },
      "execution_count": null,
      "outputs": [
        {
          "output_type": "stream",
          "name": "stdout",
          "text": [
            "Raised Exception: Age cannot be negative.\n"
          ]
        }
      ]
    },
    {
      "cell_type": "markdown",
      "source": [
        "### Debugging Tools and Best Practices\n",
        "\n",
        "- Use `print()` statements to inspect variables.\n",
        "- Use IDEs like VSCode or Jupyter for breakpoint debugging.\n",
        "- Use Python's built-in `pdb` module for step-by-step debugging (advanced).\n"
      ],
      "metadata": {
        "id": "s7yhME4tigis"
      }
    },
    {
      "cell_type": "code",
      "source": [
        "# Example of print debugging\n",
        "def divide(a, b):\n",
        "    print(\"Inputs:\", a, b)\n",
        "    return a / b\n",
        "\n",
        "try:\n",
        "    divide(10, 0)\n",
        "except Exception as e:\n",
        "    print(\"Debug Info: Exception occurred ->\", e)\n"
      ],
      "metadata": {
        "id": "rjppkMBtiltx"
      },
      "execution_count": null,
      "outputs": []
    },
    {
      "cell_type": "markdown",
      "source": [
        "## Summary\n",
        "\n",
        "- Use `with open()` for safe file handling.\n",
        "- Handle structured data with `csv` and `json` modules.\n",
        "- Manage directories using `os` and `pathlib`.\n",
        "- Handle errors using `try-except`, and raise exceptions for invalid input.\n",
        "- Use print and debugging tools to find and fix bugs.\n"
      ],
      "metadata": {
        "id": "Ru0MfSWkiqRD"
      }
    },
    {
      "cell_type": "markdown",
      "source": [
        "## 📘 Section: Comprehensions\n",
        "\n",
        "Comprehensions provide a concise, readable, and efficient way to create **lists**, **sets**, and **dictionaries** in Python using a single line of code. They help eliminate verbose for-loops and make the code cleaner and more Pythonic.\n"
      ],
      "metadata": {
        "id": "Gixe0W5vjR3u"
      }
    },
    {
      "cell_type": "markdown",
      "source": [
        "## 🔢 1. List Comprehension\n",
        "\n",
        "**Syntax:**\n",
        "```python\n",
        "[expression for item in iterable if condition]\n"
      ],
      "metadata": {
        "id": "s2lRIOKcjWye"
      }
    },
    {
      "cell_type": "code",
      "source": [
        "# List comprehension to get squares of even numbers\n",
        "squares = [x**2 for x in range(10) if x % 2 == 0]\n",
        "print(\"Squares of even numbers:\", squares)\n",
        "\n",
        "# Equivalent using a for loop\n",
        "squares_loop = []\n",
        "for x in range(10):\n",
        "    if x % 2 == 0:\n",
        "        squares_loop.append(x**2)\n",
        "print(\"Using loop:\", squares_loop)\n"
      ],
      "metadata": {
        "colab": {
          "base_uri": "https://localhost:8080/"
        },
        "id": "haAUaXJSjb7U",
        "outputId": "5e522d9f-f2b8-4d5b-b3d5-3c863d63742a"
      },
      "execution_count": null,
      "outputs": [
        {
          "output_type": "stream",
          "name": "stdout",
          "text": [
            "Squares of even numbers: [0, 4, 16, 36, 64]\n",
            "Using loop: [0, 4, 16, 36, 64]\n"
          ]
        }
      ]
    },
    {
      "cell_type": "markdown",
      "source": [
        "##  2. Set Comprehension\n",
        "\n",
        "Set comprehensions are used to create sets, which are unordered collections of unique elements.\n"
      ],
      "metadata": {
        "id": "kcjYX4qtjh7a"
      }
    },
    {
      "cell_type": "code",
      "source": [
        "# Set comprehension to find unique word lengths\n",
        "words = [\"python\", \"java\", \"c\", \"python\", \"go\", \"rust\"]\n",
        "word_lengths = {len(word) for word in words}\n",
        "print(\"Set of word lengths:\", word_lengths)\n"
      ],
      "metadata": {
        "colab": {
          "base_uri": "https://localhost:8080/"
        },
        "id": "jFOMCw1njnUG",
        "outputId": "f45786f2-a4e8-4814-ff84-91260e4241bc"
      },
      "execution_count": null,
      "outputs": [
        {
          "output_type": "stream",
          "name": "stdout",
          "text": [
            "Set of word lengths: {1, 2, 4, 6}\n"
          ]
        }
      ]
    },
    {
      "cell_type": "markdown",
      "source": [
        "##  3. Dictionary Comprehension\n",
        "\n",
        "**Syntax:**\n",
        "```python\n",
        "{key_expression: value_expression for item in iterable if condition}\n"
      ],
      "metadata": {
        "id": "O0GoIKAYjxrH"
      }
    },
    {
      "cell_type": "code",
      "source": [
        "# Dictionary comprehension for number squares\n",
        "squares_dict = {x: x**2 for x in range(5)}\n",
        "print(\"Dictionary of squares:\", squares_dict)\n",
        "\n",
        "# Dictionary from list of tuples\n",
        "students = [(\"Alice\", 90), (\"Bob\", 85), (\"Clara\", 95)]\n",
        "score_dict = {name: score for name, score in students}\n",
        "print(\"Student scores:\", score_dict)\n"
      ],
      "metadata": {
        "colab": {
          "base_uri": "https://localhost:8080/"
        },
        "id": "lTmllL9lj3sl",
        "outputId": "0c95800f-8dec-4750-eb3e-39368d85a26b"
      },
      "execution_count": null,
      "outputs": [
        {
          "output_type": "stream",
          "name": "stdout",
          "text": [
            "Dictionary of squares: {0: 0, 1: 1, 2: 4, 3: 9, 4: 16}\n",
            "Student scores: {'Alice': 90, 'Bob': 85, 'Clara': 95}\n"
          ]
        }
      ]
    },
    {
      "cell_type": "markdown",
      "source": [
        "##  4. Nested Comprehension\n",
        "\n",
        "Used when working with 2D structures like matrices or when multiple loops are needed.\n"
      ],
      "metadata": {
        "id": "LMFzi-m8j8Hv"
      }
    },
    {
      "cell_type": "code",
      "source": [
        "# Flattening a matrix using nested list comprehension\n",
        "matrix = [[1, 2, 3], [4, 5, 6]]\n",
        "flattened = [num for row in matrix for num in row]\n",
        "print(\"Flattened matrix:\", flattened)\n",
        "\n",
        "# Multiplication table using nested list comprehension\n",
        "table = [[i * j for j in range(1, 6)] for i in range(1, 6)]\n",
        "print(\"Multiplication table:\")\n",
        "for row in table:\n",
        "    print(row)\n"
      ],
      "metadata": {
        "id": "P40FzO2kkAcC"
      },
      "execution_count": null,
      "outputs": []
    },
    {
      "cell_type": "markdown",
      "source": [
        "##  5. Comprehension with if-else Condition\n",
        "\n",
        "You can embed if-else expressions directly within comprehensions.\n"
      ],
      "metadata": {
        "id": "oloplvcnkIsg"
      }
    },
    {
      "cell_type": "code",
      "source": [
        "# Even or Odd classification\n",
        "labels = [\"Even\" if x % 2 == 0 else \"Odd\" for x in range(6)]\n",
        "print(\"Even/Odd labels:\", labels)\n"
      ],
      "metadata": {
        "colab": {
          "base_uri": "https://localhost:8080/"
        },
        "id": "y9dEiYshkSRB",
        "outputId": "ab662fc8-fde0-4ddf-eae2-cfaabc7dd8dc"
      },
      "execution_count": null,
      "outputs": [
        {
          "output_type": "stream",
          "name": "stdout",
          "text": [
            "Even/Odd labels: ['Even', 'Odd', 'Even', 'Odd', 'Even', 'Odd']\n"
          ]
        }
      ]
    },
    {
      "cell_type": "markdown",
      "source": [
        "## ✅ Conclusion\n",
        "\n",
        "- Comprehensions make your Python code more concise and expressive.\n",
        "- List, set, and dictionary comprehensions improve efficiency.\n",
        "- Nested and conditional comprehensions allow complex data transformations in a single line.\n",
        "\n"
      ],
      "metadata": {
        "id": "TChpVcJ8keMC"
      }
    },
    {
      "cell_type": "markdown",
      "source": [
        "\n",
        "## Section:  Lambda Functions and Functional Programming\n",
        "\n",
        "Python supports functional programming through **lambda expressions** and built-in higher-order functions like `map()`, `filter()`, `reduce()`, and more. These tools allow concise and expressive transformations on iterables.\n"
      ],
      "metadata": {
        "id": "4D8M-EHnkulV"
      }
    },
    {
      "cell_type": "markdown",
      "source": [
        "##  1. Lambda Expressions\n",
        "\n",
        "Lambda expressions are anonymous (nameless) functions created with the `lambda` keyword.\n",
        "\n",
        "**Syntax:**\n",
        "```python\n",
        "lambda arguments: expression\n"
      ],
      "metadata": {
        "id": "YUuKB7rFk15R"
      }
    },
    {
      "cell_type": "code",
      "source": [
        "# Lambda function to double a number\n",
        "double = lambda x: x * 2\n",
        "print(\"Double of 5:\", double(5))\n",
        "\n",
        "# Lambda with two arguments\n",
        "add = lambda a, b: a + b\n",
        "print(\"Sum of 4 and 7:\", add(4, 7))\n"
      ],
      "metadata": {
        "colab": {
          "base_uri": "https://localhost:8080/"
        },
        "id": "R1oBCfG6k8tm",
        "outputId": "ea9dd96e-b93e-4471-df9b-d06f3c72cc0f"
      },
      "execution_count": null,
      "outputs": [
        {
          "output_type": "stream",
          "name": "stdout",
          "text": [
            "Double of 5: 10\n",
            "Sum of 4 and 7: 11\n"
          ]
        }
      ]
    },
    {
      "cell_type": "markdown",
      "source": [
        "##  2. map() Function\n",
        "\n",
        "`map()` applies a function to every item in an iterable (e.g., list) and returns a map object (iterator).\n"
      ],
      "metadata": {
        "id": "YGd6Kz73lVWm"
      }
    },
    {
      "cell_type": "code",
      "source": [
        "# Doubling elements in a list using map + lambda\n",
        "nums = [1, 2, 3, 4]\n",
        "doubled = list(map(lambda x: x * 2, nums))\n",
        "print(\"Doubled list:\", doubled)\n"
      ],
      "metadata": {
        "colab": {
          "base_uri": "https://localhost:8080/"
        },
        "id": "Wu6SpipKlc2K",
        "outputId": "f2c0a7aa-90b2-4659-aa59-184e0bd56afc"
      },
      "execution_count": null,
      "outputs": [
        {
          "output_type": "stream",
          "name": "stdout",
          "text": [
            "Doubled list: [2, 4, 6, 8]\n"
          ]
        }
      ]
    },
    {
      "cell_type": "markdown",
      "source": [
        "##  3. filter() Function\n",
        "\n",
        "`filter()` filters elements in an iterable based on a function that returns True/False.\n"
      ],
      "metadata": {
        "id": "U6Nq2GCKloWX"
      }
    },
    {
      "cell_type": "code",
      "source": [
        "# Filtering even numbers using filter + lambda\n",
        "even_nums = list(filter(lambda x: x % 2 == 0, nums))\n",
        "print(\"Even numbers:\", even_nums)\n"
      ],
      "metadata": {
        "id": "kUIWsPUUllWI"
      },
      "execution_count": null,
      "outputs": []
    },
    {
      "cell_type": "markdown",
      "source": [
        "##  4. reduce() Function\n",
        "\n",
        "`reduce()` is used to cumulatively apply a function to all items in an iterable. It comes from the `functools` module.\n"
      ],
      "metadata": {
        "id": "hkzl9MEAlyJj"
      }
    },
    {
      "cell_type": "code",
      "source": [
        "from functools import reduce\n",
        "\n",
        "# Summing numbers using reduce + lambda\n",
        "total = reduce(lambda x, y: x + y, nums)\n",
        "print(\"Sum of list:\", total)\n"
      ],
      "metadata": {
        "id": "gQyZccVJmKUC"
      },
      "execution_count": null,
      "outputs": []
    },
    {
      "cell_type": "markdown",
      "source": [
        "##  5. zip() Function\n",
        "\n",
        "`zip()` combines multiple iterables element-wise into tuples.\n"
      ],
      "metadata": {
        "id": "wlpFODSOmN2k"
      }
    },
    {
      "cell_type": "code",
      "source": [
        "names = [\"Alice\", \"Bob\", \"Clara\"]\n",
        "scores = [90, 85, 88]\n",
        "zipped = list(zip(names, scores))\n",
        "print(\"Zipped list:\", zipped)\n"
      ],
      "metadata": {
        "id": "ln6LBIg0mSXq"
      },
      "execution_count": null,
      "outputs": []
    },
    {
      "cell_type": "markdown",
      "source": [
        "##  6. enumerate() Function\n",
        "\n",
        "`enumerate()` adds a counter to an iterable and returns it as an enumerate object.\n"
      ],
      "metadata": {
        "id": "ajOYH5qSmViK"
      }
    },
    {
      "cell_type": "code",
      "source": [
        "# Using enumerate to index list items\n",
        "for index, name in enumerate(names):\n",
        "    print(f\"Index {index} -> {name}\")\n"
      ],
      "metadata": {
        "id": "PS05fNcWmZxS"
      },
      "execution_count": null,
      "outputs": []
    },
    {
      "cell_type": "markdown",
      "source": [
        "##  7. any() and all() Functions\n",
        "\n",
        "- `any()` returns True if **any** element of the iterable is true.\n",
        "- `all()` returns True if **all** elements are true.\n"
      ],
      "metadata": {
        "id": "zk6BQr3FmekT"
      }
    },
    {
      "cell_type": "code",
      "source": [
        "bools = [True, False, True]\n",
        "print(\"Any True?\", any(bools))   # True\n",
        "print(\"All True?\", all(bools))   # False\n"
      ],
      "metadata": {
        "id": "xwp0WEiEmjyB"
      },
      "execution_count": null,
      "outputs": []
    },
    {
      "cell_type": "markdown",
      "source": [
        "## ✅ Summary\n",
        "\n",
        "- Lambda functions are concise ways to define small functions.\n",
        "- Functional tools like `map()`, `filter()`, `reduce()`, and `zip()` simplify transformations.\n",
        "- `enumerate()` helps with indexing, while `any()` and `all()` assist with condition checks.\n",
        "\n",
        "These tools are powerful when working with large data structures or in **data cleaning and transformation pipelines**.\n"
      ],
      "metadata": {
        "id": "5l4YogzLmpbk"
      }
    },
    {
      "cell_type": "markdown",
      "source": [
        "## 📦 Modules and Packages\n",
        "\n",
        "Python modules and packages help you organize your code and reuse functionality.\n",
        "\n",
        "---\n",
        "###  1. What is a Module?\n",
        "\n",
        "A **module** is a file containing Python code—functions, classes, and variables—that can be imported and reused.\n",
        "\n",
        "Python provides:\n",
        "- Built-in standard modules (e.g., `math`, `random`)\n",
        "- Third-party modules (via `pip`)\n",
        "- Custom modules (your own `.py` files)\n",
        "\n",
        "---\n",
        "###  2. Importing Modules\n",
        "\n",
        "You can import modules in several ways:\n"
      ],
      "metadata": {
        "id": "79Wsls5HMUEJ"
      }
    },
    {
      "cell_type": "code",
      "source": [
        "# Full module import\n",
        "import math\n",
        "print(\"Square root of 16:\", math.sqrt(16))\n",
        "\n",
        "# Import specific function\n",
        "from math import pow\n",
        "print(\"2 raised to power 3:\", pow(2, 3))\n",
        "\n",
        "# Import with alias\n",
        "import datetime as dt\n",
        "print(\"Current date:\", dt.date.today())\n"
      ],
      "metadata": {
        "colab": {
          "base_uri": "https://localhost:8080/"
        },
        "id": "FLasrttoMiLz",
        "outputId": "2e8949d0-855e-4361-e2bc-36d76c5b0759"
      },
      "execution_count": null,
      "outputs": [
        {
          "output_type": "stream",
          "name": "stdout",
          "text": [
            "Square root of 16: 4.0\n",
            "2 raised to power 3: 8.0\n",
            "Current date: 2025-07-23\n"
          ]
        }
      ]
    },
    {
      "cell_type": "markdown",
      "source": [
        "###  3. Standard Libraries\n",
        "\n",
        "Python has many useful built-in libraries:\n",
        "\n",
        "#### math\n",
        "Mathematical functions\n"
      ],
      "metadata": {
        "id": "E174StD9Msny"
      }
    },
    {
      "cell_type": "code",
      "source": [
        "import math\n",
        "\n",
        "print(\"Ceil of 4.3:\", math.ceil(4.3))\n",
        "print(\"Factorial of 5:\", math.factorial(5))\n"
      ],
      "metadata": {
        "colab": {
          "base_uri": "https://localhost:8080/"
        },
        "id": "46E6e8PoM0gC",
        "outputId": "bd735582-d101-4f11-8ed1-9e0de0b5feac"
      },
      "execution_count": null,
      "outputs": [
        {
          "output_type": "stream",
          "name": "stdout",
          "text": [
            "Ceil of 4.3: 5\n",
            "Factorial of 5: 120\n"
          ]
        }
      ]
    },
    {
      "cell_type": "markdown",
      "source": [
        "####  random\n",
        "Generates pseudo-random numbers.\n"
      ],
      "metadata": {
        "id": "ZFNqadcsM-SB"
      }
    },
    {
      "cell_type": "code",
      "source": [
        "import random\n",
        "\n",
        "print(\"Random integer between 1 and 10:\", random.randint(1, 10))\n",
        "print(\"Random choice from list:\", random.choice(['apple', 'banana', 'cherry']))\n"
      ],
      "metadata": {
        "colab": {
          "base_uri": "https://localhost:8080/"
        },
        "id": "p1qCow55NEXL",
        "outputId": "39133900-a2ca-4590-f641-1d7d20f2dadf"
      },
      "execution_count": null,
      "outputs": [
        {
          "output_type": "stream",
          "name": "stdout",
          "text": [
            "Random integer between 1 and 10: 7\n",
            "Random choice from list: cherry\n"
          ]
        }
      ]
    },
    {
      "cell_type": "markdown",
      "source": [
        "####  datetime\n",
        "Deals with dates and times.\n"
      ],
      "metadata": {
        "id": "8TajE4EsNDZT"
      }
    },
    {
      "cell_type": "code",
      "source": [
        "from datetime import datetime\n",
        "\n",
        "now = datetime.now()\n",
        "print(\"Current datetime:\", now)\n",
        "print(\"Year:\", now.year, \"| Month:\", now.month, \"| Day:\", now.day)\n"
      ],
      "metadata": {
        "colab": {
          "base_uri": "https://localhost:8080/"
        },
        "id": "QKScrLFANO_9",
        "outputId": "212e8408-201e-44db-b7a4-727623483df4"
      },
      "execution_count": null,
      "outputs": [
        {
          "output_type": "stream",
          "name": "stdout",
          "text": [
            "Current datetime: 2025-07-23 07:35:02.055361\n",
            "Year: 2025 | Month: 7 | Day: 23\n"
          ]
        }
      ]
    },
    {
      "cell_type": "markdown",
      "source": [
        "####  collections\n",
        "High-performance alternatives to built-in data types.\n"
      ],
      "metadata": {
        "id": "f2gg4l_BNVY_"
      }
    },
    {
      "cell_type": "code",
      "source": [
        "from collections import Counter\n",
        "\n",
        "data = ['a', 'b', 'a', 'c', 'b', 'a']\n",
        "counter = Counter(data)\n",
        "print(\"Element count:\", counter)\n"
      ],
      "metadata": {
        "colab": {
          "base_uri": "https://localhost:8080/"
        },
        "id": "S2AG_ukqNZl6",
        "outputId": "aede6260-d9fa-473d-e9df-38db79835abd"
      },
      "execution_count": null,
      "outputs": [
        {
          "output_type": "stream",
          "name": "stdout",
          "text": [
            "Element count: Counter({'a': 3, 'b': 2, 'c': 1})\n"
          ]
        }
      ]
    },
    {
      "cell_type": "markdown",
      "source": [
        "###  4. Creating Your Own Module\n",
        "\n",
        "You can create your own module by writing Python code in a `.py` file.\n",
        "\n",
        "For example:\n",
        "```python\n",
        "# mymodule.py\n",
        "def greet(name):\n",
        "    return f\"Hello, {name}!\"\n"
      ],
      "metadata": {
        "id": "SL6eSoG9Ngvl"
      }
    },
    {
      "cell_type": "code",
      "source": [
        "from mymodule import greet\n",
        "print(greet(\"Ayomide\"))"
      ],
      "metadata": {
        "id": "6KH3YSttNq4y"
      },
      "execution_count": null,
      "outputs": []
    },
    {
      "cell_type": "markdown",
      "source": [
        "\n",
        "## ✅ Summary\n",
        "\n",
        "- Python allows modular programming using **modules** and **packages**.\n",
        "- Use built-in modules like `math`, `random`, `datetime`, and `collections` for powerful features.\n",
        "- Create your own modules for cleaner, reusable code.\n",
        "\n",
        "\n"
      ],
      "metadata": {
        "id": "CG14vtfCNnIP"
      }
    },
    {
      "cell_type": "markdown",
      "source": [
        "## Introduction to Object-Oriented Programming (OOP)\n",
        "\n",
        "OOP is a programming paradigm that uses \"objects\" to design applications and programs.\n",
        "\n",
        "\n",
        "###  1. Classes and Objects\n",
        "\n",
        "- A **class** is a blueprint for creating objects.\n",
        "- An **object** is an instance of a class.\n"
      ],
      "metadata": {
        "id": "yoKHD-7paEXh"
      }
    },
    {
      "cell_type": "code",
      "source": [
        "# Define a simple class\n",
        "class Dog:\n",
        "    def bark(self):\n",
        "        print(\"Woof!\")\n",
        "\n",
        "# Create an object (instance) of the class\n",
        "my_dog = Dog()\n",
        "my_dog.bark()\n"
      ],
      "metadata": {
        "colab": {
          "base_uri": "https://localhost:8080/"
        },
        "id": "RDWCgJ2xaOTr",
        "outputId": "b67b3dc7-a191-4682-d612-ffd365f90ad7"
      },
      "execution_count": 1,
      "outputs": [
        {
          "output_type": "stream",
          "name": "stdout",
          "text": [
            "Woof!\n"
          ]
        }
      ]
    },
    {
      "cell_type": "markdown",
      "source": [
        "###  2. Attributes and Methods\n",
        "\n",
        "- **Attributes** store information about the object.\n",
        "- **Methods** are functions that operate on the object.\n"
      ],
      "metadata": {
        "id": "j-jh2Jg7aYfo"
      }
    },
    {
      "cell_type": "code",
      "source": [
        "class Car:\n",
        "    def __init__(self, make, model):\n",
        "        self.make = make      # Attribute\n",
        "        self.model = model    # Attribute\n",
        "\n",
        "    def describe(self):       # Method\n",
        "        print(f\"This car is a {self.make} {self.model}\")\n",
        "\n",
        "# Create an instance\n",
        "my_car = Car(\"Toyota\", \"Camry\")\n",
        "my_car.describe()\n"
      ],
      "metadata": {
        "colab": {
          "base_uri": "https://localhost:8080/"
        },
        "id": "8VHWekLUafUU",
        "outputId": "4454e9a5-a5f9-4334-9265-a45625f129e3"
      },
      "execution_count": 2,
      "outputs": [
        {
          "output_type": "stream",
          "name": "stdout",
          "text": [
            "This car is a Toyota Camry\n"
          ]
        }
      ]
    },
    {
      "cell_type": "markdown",
      "source": [
        "###  3. Constructors (`__init__`)\n",
        "\n",
        "The `__init__()` method is called when a class is instantiated. It initializes the object’s attributes.\n"
      ],
      "metadata": {
        "id": "J9i3xT4baj71"
      }
    },
    {
      "cell_type": "code",
      "source": [
        "class Student:\n",
        "    def __init__(self, name, age):\n",
        "        self.name = name\n",
        "        self.age = age\n",
        "\n",
        "    def introduce(self):\n",
        "        print(f\"My name is {self.name} and I am {self.age} years old.\")\n",
        "\n",
        "student1 = Student(\"Ayomide\", 24)\n",
        "student1.introduce()\n"
      ],
      "metadata": {
        "colab": {
          "base_uri": "https://localhost:8080/"
        },
        "id": "bGUNHgvWaoCB",
        "outputId": "0b196921-c21d-4b59-f860-0024ae1007d3"
      },
      "execution_count": 3,
      "outputs": [
        {
          "output_type": "stream",
          "name": "stdout",
          "text": [
            "My name is Ayomide and I am 24 years old.\n"
          ]
        }
      ]
    },
    {
      "cell_type": "markdown",
      "source": [
        "###  4. Inheritance\n",
        "\n",
        "Inheritance allows a class (child) to inherit attributes and methods from another class (parent).\n"
      ],
      "metadata": {
        "id": "kui0SdVlaubj"
      }
    },
    {
      "cell_type": "code",
      "source": [
        "class Animal:\n",
        "    def speak(self):\n",
        "        print(\"Animal speaks\")\n",
        "\n",
        "class Dog(Animal):  # Inheriting from Animal\n",
        "    def bark(self):\n",
        "        print(\"Dog barks\")\n",
        "\n",
        "d = Dog()\n",
        "d.speak()   # Inherited\n",
        "d.bark()    # Own method\n"
      ],
      "metadata": {
        "colab": {
          "base_uri": "https://localhost:8080/"
        },
        "id": "dmWni8dwa2A0",
        "outputId": "fab2d374-bd56-41f7-e3cc-7f2043e911eb"
      },
      "execution_count": 4,
      "outputs": [
        {
          "output_type": "stream",
          "name": "stdout",
          "text": [
            "Animal speaks\n",
            "Dog barks\n"
          ]
        }
      ]
    },
    {
      "cell_type": "markdown",
      "source": [
        "###  5. Encapsulation\n",
        "\n",
        "Encapsulation hides internal details from outside access and protects object data using private attributes or methods.\n",
        "\n",
        "Prefixing an attribute with `_` (protected) or `__` (private) suggests restricted access.\n"
      ],
      "metadata": {
        "id": "riSDUKKda6Ml"
      }
    },
    {
      "cell_type": "code",
      "source": [
        "class BankAccount:\n",
        "    def __init__(self, balance):\n",
        "        self.__balance = balance  # Private attribute\n",
        "\n",
        "    def deposit(self, amount):\n",
        "        self.__balance += amount\n",
        "\n",
        "    def get_balance(self):\n",
        "        return self.__balance\n",
        "\n",
        "account = BankAccount(1000)\n",
        "account.deposit(500)\n",
        "print(\"Balance:\", account.get_balance())\n",
        "\n",
        "# Trying to access private attribute directly\n",
        "# print(account.__balance)  # This will raise an AttributeError\n"
      ],
      "metadata": {
        "id": "wDN8JJKLa-91"
      },
      "execution_count": null,
      "outputs": []
    },
    {
      "cell_type": "markdown",
      "source": [
        "## ✅ Summary\n",
        "\n",
        "- OOP is based on **classes and objects**.\n",
        "- Use `__init__()` to initialize attributes.\n",
        "- **Encapsulation** protects data.\n",
        "- **Inheritance** allows code reuse.\n",
        "\n",
        "\n"
      ],
      "metadata": {
        "id": "EjZLV8t0bYK7"
      }
    },
    {
      "cell_type": "markdown",
      "source": [
        "# 🎓 Student Performance Manager\n",
        "\n",
        "This project demonstrates core Python skills using functions, variables, lists, conditionals, file handling, and comprehensions.\n",
        "\n",
        "We will:\n",
        "- Enter and view student data\n",
        "- Calculate basic statistics\n",
        "- Save/load data to/from file\n"
      ],
      "metadata": {
        "id": "NPBemfuPex9M"
      }
    },
    {
      "cell_type": "code",
      "source": [
        "# 📌 Global student data list\n",
        "students = []\n"
      ],
      "metadata": {
        "id": "QilOqG_je7Q8"
      },
      "execution_count": 5,
      "outputs": []
    },
    {
      "cell_type": "code",
      "source": [
        "# 🔹 Function to add a student\n",
        "def add_student():\n",
        "    try:\n",
        "        name = input(\"Enter student name: \")\n",
        "        subject = input(\"Enter subject: \")\n",
        "        score = float(input(\"Enter score (0–100): \"))\n",
        "\n",
        "        if 0 <= score <= 100:\n",
        "            students.append({\"name\": name, \"subject\": subject, \"score\": score})\n",
        "            print(f\"✅ {name} added successfully!\\n\")\n",
        "        else:\n",
        "            print(\"❌ Score must be between 0 and 100.\")\n",
        "    except ValueError:\n",
        "        print(\"❌ Invalid input. Score must be a number.\")\n"
      ],
      "metadata": {
        "id": "wILm0Z_ie_fM"
      },
      "execution_count": 6,
      "outputs": []
    },
    {
      "cell_type": "code",
      "source": [
        "# 🔹 Function to display all students\n",
        "def display_students():\n",
        "    if not students:\n",
        "        print(\"🚫 No student records found.\\n\")\n",
        "        return\n",
        "    print(\"\\n📋 Student Records:\")\n",
        "    for i, student in enumerate(students, 1):\n",
        "        print(f\"{i}. {student['name']} - {student['subject']} - Score: {student['score']}\")\n"
      ],
      "metadata": {
        "id": "6Fj0aRvQfMHq"
      },
      "execution_count": 7,
      "outputs": []
    },
    {
      "cell_type": "code",
      "source": [
        "# 🔹 Function to calculate statistics\n",
        "def show_statistics():\n",
        "    if not students:\n",
        "        print(\"🚫 No data for statistics.\")\n",
        "        return\n",
        "\n",
        "    scores = [s[\"score\"] for s in students]\n",
        "    mean_score = sum(scores) / len(scores)\n",
        "    highest = max(scores)\n",
        "    lowest = min(scores)\n",
        "    passed = len([s for s in scores if s >= 50])\n",
        "\n",
        "    print(f\"\\n📊 Statistics:\")\n",
        "    print(f\"Average Score: {mean_score:.2f}\")\n",
        "    print(f\"Highest Score: {highest}\")\n",
        "    print(f\"Lowest Score: {lowest}\")\n",
        "    print(f\"Pass Rate: {passed}/{len(scores)} ({(passed/len(scores))*100:.1f}%)\")\n"
      ],
      "metadata": {
        "id": "qSsK2v-xfSWP"
      },
      "execution_count": 8,
      "outputs": []
    },
    {
      "cell_type": "code",
      "source": [
        "# 🔹 Save to CSV\n",
        "import csv\n",
        "\n",
        "def save_to_file(filename=\"students.csv\"):\n",
        "    try:\n",
        "        with open(filename, \"w\", newline=\"\") as file:\n",
        "            writer = csv.DictWriter(file, fieldnames=[\"name\", \"subject\", \"score\"])\n",
        "            writer.writeheader()\n",
        "            writer.writerows(students)\n",
        "        print(f\"💾 Data saved to {filename}\")\n",
        "    except Exception as e:\n",
        "        print(\"❌ Error saving file:\", e)\n"
      ],
      "metadata": {
        "id": "3iLX37NVfa0W"
      },
      "execution_count": 9,
      "outputs": []
    },
    {
      "cell_type": "code",
      "source": [
        "# 🔹 Load from CSV\n",
        "def load_from_file(filename=\"students.csv\"):\n",
        "    try:\n",
        "        global students\n",
        "        with open(filename, newline=\"\") as file:\n",
        "            reader = csv.DictReader(file)\n",
        "            students = list(reader)\n",
        "            for s in students:\n",
        "                s[\"score\"] = float(s[\"score\"])\n",
        "        print(f\"📂 Loaded {len(students)} records from {filename}\")\n",
        "    except FileNotFoundError:\n",
        "        print(\"❌ File not found.\")\n",
        "    except Exception as e:\n",
        "        print(\"❌ Error loading file:\", e)\n"
      ],
      "metadata": {
        "id": "Mkh2VyZffe3E"
      },
      "execution_count": 10,
      "outputs": []
    },
    {
      "cell_type": "code",
      "source": [
        "# 🔹 Menu to control the app\n",
        "def menu():\n",
        "    while True:\n",
        "        print(\"\\n📘 Student Performance Manager\")\n",
        "        print(\"1. Add Student\")\n",
        "        print(\"2. Display Students\")\n",
        "        print(\"3. Show Statistics\")\n",
        "        print(\"4. Save to File\")\n",
        "        print(\"5. Load from File\")\n",
        "        print(\"6. Exit\")\n",
        "\n",
        "        choice = input(\"Choose an option (1-6): \")\n",
        "\n",
        "        if choice == \"1\":\n",
        "            add_student()\n",
        "        elif choice == \"2\":\n",
        "            display_students()\n",
        "        elif choice == \"3\":\n",
        "            show_statistics()\n",
        "        elif choice == \"4\":\n",
        "            save_to_file()\n",
        "        elif choice == \"5\":\n",
        "            load_from_file()\n",
        "        elif choice == \"6\":\n",
        "            print(\"👋 Exiting... Bye!\")\n",
        "            break\n",
        "        else:\n",
        "            print(\"❌ Invalid choice. Try again.\")\n"
      ],
      "metadata": {
        "id": "NRBl37_rfjtC"
      },
      "execution_count": 11,
      "outputs": []
    },
    {
      "cell_type": "code",
      "source": [
        "# ▶️ Run the menu\n",
        "menu()\n"
      ],
      "metadata": {
        "colab": {
          "base_uri": "https://localhost:8080/"
        },
        "id": "m0mmzZhLfpHV",
        "outputId": "87199031-0271-47d0-eb91-71c33e567151"
      },
      "execution_count": 12,
      "outputs": [
        {
          "output_type": "stream",
          "name": "stdout",
          "text": [
            "\n",
            "📘 Student Performance Manager\n",
            "1. Add Student\n",
            "2. Display Students\n",
            "3. Show Statistics\n",
            "4. Save to File\n",
            "5. Load from File\n",
            "6. Exit\n",
            "Choose an option (1-6): 1\n",
            "Enter student name: chukwu\n",
            "Enter subject: 36\n",
            "Enter score (0–100): 45\n",
            "✅ chukwu added successfully!\n",
            "\n",
            "\n",
            "📘 Student Performance Manager\n",
            "1. Add Student\n",
            "2. Display Students\n",
            "3. Show Statistics\n",
            "4. Save to File\n",
            "5. Load from File\n",
            "6. Exit\n",
            "Choose an option (1-6): 3\n",
            "\n",
            "📊 Statistics:\n",
            "Average Score: 45.00\n",
            "Highest Score: 45.0\n",
            "Lowest Score: 45.0\n",
            "Pass Rate: 0/1 (0.0%)\n",
            "\n",
            "📘 Student Performance Manager\n",
            "1. Add Student\n",
            "2. Display Students\n",
            "3. Show Statistics\n",
            "4. Save to File\n",
            "5. Load from File\n",
            "6. Exit\n",
            "Choose an option (1-6): 6\n",
            "👋 Exiting... Bye!\n"
          ]
        }
      ]
    }
  ]
}