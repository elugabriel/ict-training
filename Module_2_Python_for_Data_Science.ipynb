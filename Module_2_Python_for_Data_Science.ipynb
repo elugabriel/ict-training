{
  "nbformat": 4,
  "nbformat_minor": 0,
  "metadata": {
    "colab": {
      "provenance": [],
      "authorship_tag": "ABX9TyPg6VIJZV5EJbtnAUGRnHnR",
      "include_colab_link": true
    },
    "kernelspec": {
      "name": "python3",
      "display_name": "Python 3"
    },
    "language_info": {
      "name": "python"
    }
  },
  "cells": [
    {
      "cell_type": "markdown",
      "metadata": {
        "id": "view-in-github",
        "colab_type": "text"
      },
      "source": [
        "<a href=\"https://colab.research.google.com/github/elugabriel/ict-training/blob/main/Module_2_Python_for_Data_Science.ipynb\" target=\"_parent\"><img src=\"https://colab.research.google.com/assets/colab-badge.svg\" alt=\"Open In Colab\"/></a>"
      ]
    },
    {
      "cell_type": "markdown",
      "source": [
        "# **Module 2: Python for Data Science**\n",
        "## Section 1: Variables and Data Types\n",
        "\n",
        "In Python, variables are used to store data values. Unlike many programming languages, Python does not require you to declare the type of variable explicitly.\n",
        "\n",
        "### What is a Variable?\n",
        "A variable is a name that refers to a value. In Python, you create a variable by assigning it a value using the `=` operator.\n",
        "\n",
        "### Basic Data Types in Python:\n",
        "- `int` (Integer): Whole numbers, e.g., `5`, `-10`\n",
        "- `float` (Floating-point number): Decimal numbers, e.g., `3.14`, `-0.01`\n",
        "- `str` (String): Sequence of characters, e.g., `\"hello\"`, `'Python'`\n",
        "- `bool` (Boolean): Logical values `True` or `False`\n",
        "- `None`: Represents the absence of a value\n",
        "\n",
        "Let’s see this in action:\n"
      ],
      "metadata": {
        "id": "6wShNMCRTbnV"
      }
    },
    {
      "cell_type": "code",
      "execution_count": 1,
      "metadata": {
        "colab": {
          "base_uri": "https://localhost:8080/"
        },
        "id": "7fXdLOP6TM1_",
        "outputId": "87b070e4-25b5-4e09-f070-cbf67b9c2407"
      },
      "outputs": [
        {
          "output_type": "stream",
          "name": "stdout",
          "text": [
            "Integer: 10\n",
            "Float: 3.14\n",
            "String: Python\n",
            "Boolean: True\n",
            "NoneType: None\n"
          ]
        }
      ],
      "source": [
        "# Variable assignments with different data types\n",
        "x = 10              # Integer\n",
        "y = 3.14            # Float\n",
        "name = \"Python\"     # String\n",
        "is_active = True    # Boolean\n",
        "nothing = None      # NoneType\n",
        "\n",
        "# Display all\n",
        "print(\"Integer:\", x)\n",
        "print(\"Float:\", y)\n",
        "print(\"String:\", name)\n",
        "print(\"Boolean:\", is_active)\n",
        "print(\"NoneType:\", nothing)\n"
      ]
    },
    {
      "cell_type": "markdown",
      "source": [
        "## Section 2: Type Conversion\n",
        "\n",
        "Python provides built-in functions to convert between types:\n",
        "- `int()` converts to integer\n",
        "- `float()` converts to float\n",
        "- `str()` converts to string\n"
      ],
      "metadata": {
        "id": "hTGRMMW4UKfQ"
      }
    },
    {
      "cell_type": "code",
      "source": [
        "# Type Conversion examples\n",
        "a = \"123\"\n",
        "b = float(\"456.78\")\n",
        "c = 789\n",
        "\n",
        "# Conversions\n",
        "a_int = int(a)      # '123' → 123\n",
        "b_str = str(b)      # 456.78 → '456.78'\n",
        "c_float = float(c)  # 789 → 789.0\n",
        "\n",
        "print(\"a_int (int):\", a_int)\n",
        "print(\"b_str (str):\", b_str)\n",
        "print(\"c_float (float):\", c_float)\n"
      ],
      "metadata": {
        "colab": {
          "base_uri": "https://localhost:8080/"
        },
        "id": "lrYzXVp0UP4r",
        "outputId": "7a15580d-1d2b-4e26-996e-a67cdd0d4dec"
      },
      "execution_count": 2,
      "outputs": [
        {
          "output_type": "stream",
          "name": "stdout",
          "text": [
            "a_int (int): 123\n",
            "b_str (str): 456.78\n",
            "c_float (float): 789.0\n"
          ]
        }
      ]
    },
    {
      "cell_type": "markdown",
      "source": [
        "## Section 3: Type Checking\n",
        "\n",
        "You can use `type()` to check the data type of a variable.\n",
        "You can also use `isinstance()` to check if a variable is of a specific type.\n"
      ],
      "metadata": {
        "id": "3KhMpqJxUbBa"
      }
    },
    {
      "cell_type": "code",
      "source": [
        "# Type Checking\n",
        "print(\"Type of x:\", type(x))\n",
        "print(\"Type of y:\", type(y))\n",
        "print(\"Type of name:\", type(name))\n",
        "print(\"Type of is_active:\", type(is_active))\n",
        "print(\"Type of nothing:\", type(nothing))\n",
        "\n",
        "# Using isinstance()\n",
        "print(\"Is x an int?\", isinstance(x, int))\n",
        "print(\"Is y a float?\", isinstance(y, float))\n",
        "print(\"Is name a str?\", isinstance(name, str))\n"
      ],
      "metadata": {
        "colab": {
          "base_uri": "https://localhost:8080/"
        },
        "id": "ADY00Mh9UftX",
        "outputId": "b28650df-be18-487f-f235-925f6c7c5cf4"
      },
      "execution_count": 3,
      "outputs": [
        {
          "output_type": "stream",
          "name": "stdout",
          "text": [
            "Type of x: <class 'int'>\n",
            "Type of y: <class 'float'>\n",
            "Type of name: <class 'str'>\n",
            "Type of is_active: <class 'bool'>\n",
            "Type of nothing: <class 'NoneType'>\n",
            "Is x an int? True\n",
            "Is y a float? True\n",
            "Is name a str? True\n"
          ]
        }
      ]
    }
  ]
}