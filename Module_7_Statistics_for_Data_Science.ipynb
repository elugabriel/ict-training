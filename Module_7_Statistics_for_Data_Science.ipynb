{
  "cells": [
    {
      "cell_type": "markdown",
      "metadata": {
        "id": "view-in-github",
        "colab_type": "text"
      },
      "source": [
        "<a href=\"https://colab.research.google.com/github/elugabriel/Data-Science-Full-Course/blob/main/Module_7_Statistics_for_Data_Science.ipynb\" target=\"_parent\"><img src=\"https://colab.research.google.com/assets/colab-badge.svg\" alt=\"Open In Colab\"/></a>"
      ]
    },
    {
      "cell_type": "markdown",
      "id": "94c57305",
      "metadata": {
        "id": "94c57305"
      },
      "source": [
        "# Descriptive Statistics in Data Science\n",
        "\n",
        "## Introduction\n",
        "\n",
        "Descriptive statistics are fundamental techniques in data analysis used to summarize and describe the main features of a dataset. These measures provide insights into the central tendency, dispersion, and distribution of data.\n",
        "\n",
        "This notebook covers key descriptive statistics:\n",
        "- **Measures of Central Tendency**: Mean, Median, Mode\n",
        "- **Measures of Dispersion**: Variance, Standard Deviation, Interquartile Range (IQR), Percentiles\n",
        "\n",
        "We will explain the concepts, walk through manual calculations, and implement them in Python—both manually and using libraries like NumPy and pandas.\n"
      ]
    },
    {
      "cell_type": "markdown",
      "id": "3fb542e1",
      "metadata": {
        "id": "3fb542e1"
      },
      "source": [
        "## Theory\n",
        "\n",
        "### 1. Mean (Arithmetic Average)\n",
        "The mean is the sum of all data points divided by the number of points.\n",
        "\n",
        "$$\n",
        "\\text{Mean} = \\frac{1}{n} \\sum_{i=1}^{n} x_i\n",
        "$$\n",
        "\n",
        "### 2. Median\n",
        "The median is the middle value when the data is sorted. If there is an even number of values, it is the average of the two middle values.\n",
        "\n",
        "### 3. Mode\n",
        "The mode is the most frequently occurring value in the dataset.\n",
        "\n",
        "### 4. Variance\n",
        "Variance measures how spread out the data points are from the mean.\n",
        "\n",
        "$$\n",
        "\\text{Variance} = \\frac{1}{n} \\sum_{i=1}^{n} (x_i - \\bar{x})^2\n",
        "$$\n",
        "\n",
        "### 5. Standard Deviation\n",
        "The standard deviation is the square root of the variance.\n",
        "\n",
        "$$\n",
        "\\text{Std. Deviation} = \\sqrt{\\text{Variance}}\n",
        "$$\n",
        "\n",
        "### 6. Percentiles\n",
        "The p-th percentile is the value below which p percent of the data falls.\n",
        "\n",
        "### 7. Interquartile Range (IQR)\n",
        "IQR is the range between the 75th percentile (Q3) and the 25th percentile (Q1):\n",
        "\n",
        "$$\n",
        "\\text{IQR} = Q3 - Q1\n",
        "$$\n"
      ]
    },
    {
      "cell_type": "markdown",
      "id": "4f3d5798",
      "metadata": {
        "id": "4f3d5798"
      },
      "source": [
        "## Manual Calculation\n",
        "\n",
        "Let's take the following dataset:"
      ]
    },
    {
      "cell_type": "code",
      "execution_count": null,
      "id": "4405a807",
      "metadata": {
        "id": "4405a807"
      },
      "outputs": [],
      "source": [
        "data = [5, 7, 8, 9, 10, 10, 13, 15, 16, 18]"
      ]
    },
    {
      "cell_type": "code",
      "source": [
        "import seaborn as sns\n",
        "import pandas as"
      ],
      "metadata": {
        "id": "r4dIuRtUtbOI"
      },
      "id": "r4dIuRtUtbOI",
      "execution_count": null,
      "outputs": []
    },
    {
      "cell_type": "markdown",
      "source": [
        "\n",
        "### Step 1: Mean\n",
        "\n",
        "$$\n",
        "\\text{Mean} = \\frac{5 + 7 + 8 + 9 + 10 + 10 + 13 + 15 + 16 + 18}{10} = \\frac{111}{10} = 11.1\n",
        "$$\n",
        "\n",
        "### Step 2: Median\n",
        "\n",
        "Sorted Data: 5, 7, 8, 9, 10, 10, 13, 15, 16, 18\n",
        "\n",
        "Since the number of data points is even (10), the median is the average of the 5th and 6th values:\n",
        "\n",
        "$$\n",
        "\\text{Median} = \\frac{10 + 10}{2} = 10.0\n",
        "$$\n",
        "\n",
        "### Step 3: Mode\n",
        "\n",
        "The value **10** appears twice, while all others appear once.  \n",
        "Therefore:\n",
        "\n",
        "$$\n",
        "\\text{Mode} = 10\n",
        "$$\n",
        "\n",
        "### Step 4: Variance\n",
        "\n",
        "First, recall the mean:\n",
        "\n",
        "$$\n",
        "\\bar{x} = 11.1\n",
        "$$\n",
        "\n",
        "Then compute the squared differences from the mean and average them:\n",
        "\n",
        "$$\n",
        "\\text{Variance} = \\frac{1}{n} \\sum_{i=1}^{n} (x_i - \\bar{x})^2 = \\frac{(5-11.1)^2 + (7-11.1)^2 + \\ldots + (18-11.1)^2}{10} = 19.29\n",
        "$$\n",
        "\n",
        "### Step 5: Standard Deviation\n",
        "\n",
        "$$\n",
        "\\text{Std. Deviation} = \\sqrt{19.29} \\approx 4.39\n",
        "$$\n",
        "\n",
        "### Step 6: Percentiles & IQR\n",
        "\n",
        "To find percentiles using linear interpolation:\n",
        "\n",
        "- Q1 (25th percentile):\n",
        "\n",
        "$$\n",
        "\\text{Position} = 0.25 \\times (n + 1) = 0.25 \\times 11 = 2.75^{\\text{th}} \\text{ value}\n",
        "$$\n",
        "\n",
        "Interpolate between 2nd (7) and 3rd (8) values:\n",
        "\n",
        "$$\n",
        "Q_1 = 7 + 0.75 \\times (8 - 7) = 7.75\n",
        "$$\n",
        "\n",
        "- Q3 (75th percentile):\n",
        "\n",
        "$$\n",
        "\\text{Position} = 0.75 \\times (n + 1) = 0.75 \\times 11 = 8.25^{\\text{th}} \\text{ value}\n",
        "$$\n",
        "\n",
        "Interpolate between 8th (15) and 9th (16) values:\n",
        "\n",
        "$$\n",
        "Q_3 = 15 + 0.25 \\times (16 - 15) = 15.25\n",
        "$$\n",
        "\n",
        "- IQR:\n",
        "\n",
        "$$\n",
        "\\text{IQR} = Q_3 - Q_1 = 15.25 - 7.75 = 7.5\n",
        "$$\n"
      ],
      "metadata": {
        "id": "0wBHFPS4tf1h"
      },
      "id": "0wBHFPS4tf1h"
    },
    {
      "cell_type": "markdown",
      "source": [
        "# Python Implementation (Manual Computation)"
      ],
      "metadata": {
        "id": "D_Ummlm1vtbl"
      },
      "id": "D_Ummlm1vtbl"
    },
    {
      "cell_type": "code",
      "source": [
        "# Python Implementation (Manual Computation)\n",
        "\n",
        "data = [5, 7, 8, 9, 10, 10, 13, 15, 16, 18]\n",
        "\n",
        "# Mean\n",
        "mean = sum(data) / len(data)\n",
        "\n",
        "# Median\n",
        "sorted_data = sorted(data)\n",
        "n = len(sorted_data)\n",
        "if n % 2 == 0:\n",
        "    median = (sorted_data[n//2 - 1] + sorted_data[n//2]) / 2\n",
        "else:\n",
        "    median = sorted_data[n//2]\n",
        "\n",
        "# Mode (manual)\n",
        "frequency = {}\n",
        "for num in data:\n",
        "    frequency[num] = frequency.get(num, 0) + 1\n",
        "mode = max(frequency, key=frequency.get)\n",
        "\n",
        "# Variance\n",
        "mean_diff_squared = [(x - mean) ** 2 for x in data]\n",
        "variance = sum(mean_diff_squared) / n\n",
        "\n",
        "# Standard Deviation\n",
        "std_dev = variance ** 0.5\n",
        "\n",
        "# Percentiles (Manual interpolation)\n",
        "def percentile(data, p):\n",
        "    data_sorted = sorted(data)\n",
        "    k = (len(data) - 1) * (p / 100)\n",
        "    f = int(k)\n",
        "    c = k - f\n",
        "    if f + 1 < len(data):\n",
        "        return data_sorted[f] + (data_sorted[f + 1] - data_sorted[f]) * c\n",
        "    else:\n",
        "        return data_sorted[f]\n",
        "\n",
        "q1 = percentile(data, 25)\n",
        "q3 = percentile(data, 75)\n",
        "iqr = q3 - q1\n",
        "\n",
        "# Output results\n",
        "print(\"Mean:\", mean)\n",
        "print(\"Median:\", median)\n",
        "print(\"Mode:\", mode)\n",
        "print(\"Variance:\", variance)\n",
        "print(\"Standard Deviation:\", std_dev)\n",
        "print(\"Q1 (25th Percentile):\", q1)\n",
        "print(\"Q3 (75th Percentile):\", q3)\n",
        "print(\"IQR:\", iqr)\n"
      ],
      "metadata": {
        "id": "9rU5km6_vniZ"
      },
      "id": "9rU5km6_vniZ",
      "execution_count": null,
      "outputs": []
    },
    {
      "cell_type": "markdown",
      "source": [
        "# Python Implementation (Library-Based)"
      ],
      "metadata": {
        "id": "nc--dxHTv0nv"
      },
      "id": "nc--dxHTv0nv"
    },
    {
      "cell_type": "code",
      "source": [
        "# import the required library\n",
        "import numpy as np\n",
        "import pandas as pd\n",
        "from scipy import stats\n",
        "\n",
        "data = [5, 7, 8, 9, 10, 10, 13, 15, 16, 18]\n",
        "\n",
        "# Convert to numpy array\n",
        "arr = np.array(data)\n",
        "\n",
        "# Mean\n",
        "mean = np.mean(arr)\n",
        "\n",
        "# Median\n",
        "median = np.median(arr)\n",
        "\n",
        "# Mode\n",
        "mode = stats.mode(arr, keepdims=True).mode[0]\n",
        "\n",
        "# Variance & Std. Deviation\n",
        "variance = np.var(arr)\n",
        "std_dev = np.std(arr)\n",
        "\n",
        "# Percentiles\n",
        "q1 = np.percentile(arr, 25)\n",
        "q3 = np.percentile(arr, 75)\n",
        "iqr = q3 - q1\n",
        "\n",
        "# Display\n",
        "print(\"Mean:\", mean)\n",
        "print(\"Median:\", median)\n",
        "print(\"Mode:\", mode)\n",
        "print(\"Variance:\", variance)\n",
        "print(\"Standard Deviation:\", std_dev)\n",
        "print(\"Q1 (25th Percentile):\", q1)\n",
        "print(\"Q3 (75th Percentile):\", q3)\n",
        "print(\"IQR:\", iqr)\n"
      ],
      "metadata": {
        "id": "xWBZstqtv1e3"
      },
      "id": "xWBZstqtv1e3",
      "execution_count": null,
      "outputs": []
    },
    {
      "cell_type": "markdown",
      "source": [
        "## Conclusion\n",
        "\n",
        "Descriptive statistics offer essential tools to understand data before applying more complex statistical or machine learning methods.  \n",
        "- **Mean**, **median**, and **mode** help us determine the center of the data.\n",
        "- **Variance** and **standard deviation** quantify data spread.\n",
        "- **Percentiles** and **IQR** help identify distribution and detect outliers.\n",
        "\n",
        "Whether computed manually or using Python libraries like NumPy and pandas, these statistics form the basis of all data analysis processes.\n"
      ],
      "metadata": {
        "id": "bc67oYz2wJwm"
      },
      "id": "bc67oYz2wJwm"
    },
    {
      "cell_type": "markdown",
      "source": [
        "# **Probability Concepts and Distributions**\n",
        "\n",
        "## Introduction\n",
        "\n",
        "Probability is the branch of mathematics concerned with the likelihood of outcomes. It forms the backbone of statistical inference, data science, and machine learning. This notebook explores:\n",
        "\n",
        "- Sample spaces, events, permutations, and combinations  \n",
        "- Conditional probability and Bayes' Theorem  \n",
        "- Common probability distributions  \n",
        "- Visualization of distributions using Seaborn\n"
      ],
      "metadata": {
        "id": "5sH_BXLKwyOV"
      },
      "id": "5sH_BXLKwyOV"
    },
    {
      "cell_type": "markdown",
      "source": [
        "## Theory\n",
        "\n",
        "### 1. Events and Sample Spaces\n",
        "\n",
        "- **Sample space (S)**: Set of all possible outcomes of an experiment.\n",
        "- **Event (E)**: A subset of the sample space.\n",
        "\n",
        "### 2. Permutations and Combinations\n",
        "\n",
        "- **Permutations (order matters)**:\n",
        "  $$\n",
        "  P(n, r) = \\frac{n!}{(n - r)!}\n",
        "  $$\n",
        "\n",
        "- **Combinations (order doesn't matter)**:\n",
        "  $$\n",
        "  C(n, r) = \\frac{n!}{r!(n - r)!}\n",
        "  $$\n",
        "\n",
        "### 3. Conditional Probability\n",
        "\n",
        "- Probability of event A given B has occurred:\n",
        "  $$\n",
        "  P(A|B) = \\frac{P(A \\cap B)}{P(B)}\n",
        "  $$\n",
        "\n",
        "### 4. Bayes' Theorem\n",
        "\n",
        "Bayes' theorem allows us to reverse conditional probabilities:\n",
        "\n",
        "$$\n",
        "P(A|B) = \\frac{P(B|A) \\cdot P(A)}{P(B)}\n",
        "$$\n",
        "\n",
        "### 5. Distributions\n",
        "\n",
        "- **Uniform Distribution**: All outcomes equally likely.\n",
        "- **Binomial Distribution**: Discrete, number of successes in fixed trials.\n",
        "- **Normal Distribution**: Bell-shaped curve for continuous variables.\n",
        "- **Poisson Distribution**: Discrete, number of events in fixed interval.\n"
      ],
      "metadata": {
        "id": "Ni93jMTXxAUY"
      },
      "id": "Ni93jMTXxAUY"
    },
    {
      "cell_type": "markdown",
      "source": [
        "## Manual Calculation\n",
        "\n",
        "### Example 1: Permutations and Combinations\n",
        "\n",
        "- Permutations of 3 out of 5 items:\n",
        "  $$\n",
        "  P(5, 3) = \\frac{5!}{(5 - 3)!} = 60\n",
        "  $$\n",
        "\n",
        "- Combinations of 3 out of 5 items:\n",
        "  $$\n",
        "  C(5, 3) = \\frac{5!}{3!(5 - 3)!} = 10\n",
        "  $$\n",
        "\n",
        "### Example 2: Conditional Probability\n",
        "\n",
        "Let:\n",
        "- P(A) = 0.6\n",
        "- P(B) = 0.5\n",
        "- P(A ∩ B) = 0.3\n",
        "\n",
        "Then:\n",
        "$$\n",
        "P(A|B) = \\frac{P(A \\cap B)}{P(B)} = \\frac{0.3}{0.5} = 0.6\n",
        "$$\n",
        "\n",
        "### Example 3: Bayes’ Theorem\n",
        "\n",
        "Suppose:\n",
        "- P(Disease) = 0.01\n",
        "- P(Positive | Disease) = 0.99\n",
        "- P(Positive | No Disease) = 0.05\n",
        "\n",
        "Then:\n",
        "$$\n",
        "P(Positive) = P(Pos|D)P(D) + P(Pos|\\neg D)P(\\neg D) = 0.99 \\cdot 0.01 + 0.05 \\cdot 0.99 = 0.0594\n",
        "$$\n",
        "\n",
        "Using Bayes:\n",
        "$$\n",
        "P(D|Pos) = \\frac{0.99 \\cdot 0.01}{0.0594} \\approx 0.1667\n",
        "$$\n"
      ],
      "metadata": {
        "id": "8vkbiIx_xUnI"
      },
      "id": "8vkbiIx_xUnI"
    },
    {
      "cell_type": "markdown",
      "source": [
        "# Python Implementation (Manual)"
      ],
      "metadata": {
        "id": "BOV0_B-wxxoQ"
      },
      "id": "BOV0_B-wxxoQ"
    },
    {
      "cell_type": "code",
      "source": [
        "import math\n",
        "\n",
        "# Permutations\n",
        "def permutations(n, r):\n",
        "    return math.factorial(n) // math.factorial(n - r)\n",
        "\n",
        "# Combinations\n",
        "def combinations(n, r):\n",
        "    return math.factorial(n) // (math.factorial(r) * math.factorial(n - r))\n",
        "\n",
        "# Conditional Probability\n",
        "def conditional_prob(p_a_and_b, p_b):\n",
        "    return p_a_and_b / p_b\n",
        "\n",
        "# Bayes' Theorem\n",
        "def bayes_theorem(p_a, p_b_given_a, p_b_given_not_a):\n",
        "    p_not_a = 1 - p_a\n",
        "    p_b = (p_b_given_a * p_a) + (p_b_given_not_a * p_not_a)\n",
        "    return (p_b_given_a * p_a) / p_b\n",
        "\n",
        "# Test\n",
        "print(\"P(5, 3):\", permutations(5, 3))\n",
        "print(\"C(5, 3):\", combinations(5, 3))\n",
        "print(\"P(A|B):\", conditional_prob(0.3, 0.5))\n",
        "print(\"P(Disease | Positive):\", bayes_theorem(0.01, 0.99, 0.05))\n"
      ],
      "metadata": {
        "id": "m_DcNf61xrSw"
      },
      "id": "m_DcNf61xrSw",
      "execution_count": null,
      "outputs": []
    },
    {
      "cell_type": "markdown",
      "source": [
        "# Python Implementation (Library-Based)"
      ],
      "metadata": {
        "id": "FZ5dF9lcyJv3"
      },
      "id": "FZ5dF9lcyJv3"
    },
    {
      "cell_type": "code",
      "source": [
        "import numpy as np\n",
        "import seaborn as sns\n",
        "import matplotlib.pyplot as plt\n",
        "from scipy.stats import binom, norm, poisson, uniform\n",
        "\n",
        "# Uniform Distribution\n",
        "data_uniform = uniform.rvs(loc=0, scale=10, size=1000)\n",
        "\n",
        "# Binomial Distribution\n",
        "data_binomial = binom.rvs(n=10, p=0.5, size=1000)\n",
        "\n",
        "# Normal Distribution\n",
        "data_normal = norm.rvs(loc=0, scale=1, size=1000)\n",
        "\n",
        "# Poisson Distribution\n",
        "data_poisson = poisson.rvs(mu=3, size=1000)\n",
        "\n",
        "\n"
      ],
      "metadata": {
        "id": "ZaI0mSO9yFsd"
      },
      "id": "ZaI0mSO9yFsd",
      "execution_count": null,
      "outputs": []
    },
    {
      "cell_type": "code",
      "source": [
        "# Plotting\n",
        "plt.figure(figsize=(14, 8))\n",
        "\n",
        "plt.subplot(2, 2, 1)\n",
        "sns.histplot(data_uniform, kde=True, bins=30, color='skyblue')\n",
        "plt.title(\"Uniform Distribution\")\n",
        "\n",
        "plt.subplot(2, 2, 2)\n",
        "sns.histplot(data_binomial, kde=False, bins=10, color='green')\n",
        "plt.title(\"Binomial Distribution\")\n",
        "\n",
        "plt.subplot(2, 2, 3)\n",
        "sns.histplot(data_normal, kde=True, bins=30, color='salmon')\n",
        "plt.title(\"Normal Distribution\")\n",
        "\n",
        "plt.subplot(2, 2, 4)\n",
        "sns.histplot(data_poisson, kde=False, bins=15, color='purple')\n",
        "plt.title(\"Poisson Distribution\")\n",
        "\n",
        "plt.tight_layout()\n",
        "plt.show()"
      ],
      "metadata": {
        "colab": {
          "base_uri": "https://localhost:8080/",
          "height": 798
        },
        "id": "trc_4KiQ1H6X",
        "outputId": "96d0b70a-37cf-4353-c1cf-b5529e9f74bc"
      },
      "id": "trc_4KiQ1H6X",
      "execution_count": null,
      "outputs": [
        {
          "output_type": "display_data",
          "data": {
            "text/plain": [
              "<Figure size 1400x800 with 4 Axes>"
            ],
            "image/png": "[encoded data removed]"
          },
          "metadata": {}
        }
      ]
    },
    {
      "cell_type": "markdown",
      "source": [
        "## Conclusion\n",
        "\n",
        "Probability theory equips us with tools to reason under uncertainty:\n",
        "- **Events and sample spaces** frame outcomes.\n",
        "- **Permutations and combinations** model different arrangements and selections.\n",
        "- **Conditional probability** and **Bayes' Theorem** are foundational to decision-making under uncertainty.\n",
        "- **Distributions** help model real-world phenomena.\n",
        "\n",
        "Using Python libraries such as `scipy.stats`, `numpy`, and `seaborn`, we can simulate and visualize these concepts efficiently.\n"
      ],
      "metadata": {
        "id": "T0AGpWFoyYm-"
      },
      "id": "T0AGpWFoyYm-"
    },
    {
      "cell_type": "markdown",
      "source": [
        "## Real-Time Examples and Solutions\n"
      ],
      "metadata": {
        "id": "Rqg_jJijzFbL"
      },
      "id": "Rqg_jJijzFbL"
    },
    {
      "cell_type": "markdown",
      "source": [
        "## Events and Sample Spaces\n",
        "**Question:** A coin is flipped twice. What is the sample space, and what is the probability of getting exactly one head?\n",
        "\n",
        "**Solution:**\n",
        "Sample Space (S) = {HH, HT, TH, TT}  \n",
        "Event E = {HT, TH} → exactly one head  \n",
        "Number of favorable outcomes = 2  \n",
        "Total outcomes = 4\n",
        "\n",
        "$$\n",
        "P(E) = \\frac{2}{4} = 0.5\n",
        "$$\n"
      ],
      "metadata": {
        "id": "gPH7sWNmzOXQ"
      },
      "id": "gPH7sWNmzOXQ"
    },
    {
      "cell_type": "markdown",
      "source": [
        "## Permutations and Combinations\n",
        "**Question:** In how many ways can 3 students be selected from a group of 5 to form a team (order does not matter)?\n",
        "\n",
        "**Solution:**\n",
        "\n",
        "Use combinations:\n",
        "\n",
        "$$\n",
        "C(5, 3) = \\frac{5!}{3! \\cdot 2!} = 10\n",
        "$$\n"
      ],
      "metadata": {
        "id": "xt0Xo07ZzKFI"
      },
      "id": "xt0Xo07ZzKFI"
    },
    {
      "cell_type": "markdown",
      "source": [
        "## Conditional Probability\n",
        "**Question:** Suppose 70% of students passed Math, 60% passed English, and 50% passed both. What is the probability that a student passed Math given they passed English?\n",
        "\n",
        "**Solution:**\n",
        "\n",
        "Let A = passed Math, B = passed English  \n",
        "Given:  \n",
        "- P(A) = 0.7  \n",
        "- P(B) = 0.6  \n",
        "- P(A ∩ B) = 0.5  \n",
        "\n",
        "Use conditional probability:\n",
        "\n",
        "$$\n",
        "P(A|B) = \\frac{P(A \\cap B)}{P(B)} = \\frac{0.5}{0.6} \\approx 0.833\n",
        "$$\n"
      ],
      "metadata": {
        "id": "kTiY2cjuzVz1"
      },
      "id": "kTiY2cjuzVz1"
    },
    {
      "cell_type": "markdown",
      "source": [
        "## Bayes' Theorem\n",
        "**Question:** A test for a disease is 95% accurate. 1% of the population has the disease. What is the probability that a person has the disease given they test positive?\n",
        "\n",
        "**Solution:**\n",
        "\n",
        "Let:\n",
        "- P(Disease) = 0.01\n",
        "- P(Positive | Disease) = 0.95\n",
        "- P(Positive | No Disease) = 0.05\n",
        "\n",
        "Total probability of testing positive:\n",
        "\n",
        "$$\n",
        "P(Pos) = (0.95)(0.01) + (0.05)(0.99) = 0.0095 + 0.0495 = 0.059\n",
        "$$\n",
        "\n",
        "Apply Bayes:\n",
        "\n",
        "$$\n",
        "P(Disease | Pos) = \\frac{0.95 \\cdot 0.01}{0.059} \\approx 0.161\n",
        "$$\n",
        "\n",
        "So, even with a positive test, the probability of actually having the disease is ~16.1%.\n"
      ],
      "metadata": {
        "id": "9Iahy1SgzgBV"
      },
      "id": "9Iahy1SgzgBV"
    },
    {
      "cell_type": "markdown",
      "source": [
        "## Distributions\n",
        "**Question:** A factory has a defect rate of 2%. In a batch of 100 items, what’s the probability that exactly 2 items are defective? Use the binomial distribution.\n",
        "\n",
        "**Solution:**\n",
        "\n",
        "Let X ~ Binomial(n = 100, p = 0.02)\n",
        "\n",
        "Use binomial formula:\n",
        "\n",
        "$$\n",
        "P(X = 2) = C(100, 2) \\cdot (0.02)^2 \\cdot (0.98)^{98}\n",
        "$$\n",
        "\n",
        "Python can be used to compute this:\n"
      ],
      "metadata": {
        "id": "KRUelitK0QBV"
      },
      "id": "KRUelitK0QBV"
    },
    {
      "cell_type": "code",
      "source": [
        "from scipy.stats import binom\n",
        "\n",
        "# Probability of exactly 2 defective items out of 100\n",
        "n = 100\n",
        "p = 0.02\n",
        "k = 2\n",
        "prob = binom.pmf(k, n, p)\n",
        "print(f\"P(X=2): {prob:.4f}\")\n"
      ],
      "metadata": {
        "id": "Nsep0KOV0hh2"
      },
      "id": "Nsep0KOV0hh2",
      "execution_count": null,
      "outputs": []
    },
    {
      "cell_type": "markdown",
      "source": [
        "**Question:** What does a normal distribution look like? Plot one with mean = 0 and std dev = 1.\n",
        "\n",
        "**Python:**\n"
      ],
      "metadata": {
        "id": "KWmET12a0v7L"
      },
      "id": "KWmET12a0v7L"
    },
    {
      "cell_type": "code",
      "source": [
        "import seaborn as sns\n",
        "import numpy as np\n",
        "import matplotlib.pyplot as plt\n",
        "from scipy.stats import norm\n",
        "\n",
        "data = norm.rvs(loc=0, scale=1, size=1000)\n",
        "sns.histplot(data, kde=True, color=\"dodgerblue\")\n",
        "plt.title(\"Normal Distribution (μ=0, σ=1)\")\n",
        "plt.show()\n"
      ],
      "metadata": {
        "colab": {
          "base_uri": "https://localhost:8080/",
          "height": 452
        },
        "id": "eUtldDnr07DF",
        "outputId": "8fd522f4-f0e7-4b29-d11c-0bc4e9ee176a"
      },
      "id": "eUtldDnr07DF",
      "execution_count": null,
      "outputs": [
        {
          "output_type": "display_data",
          "data": {
            "text/plain": [
              "<Figure size 640x480 with 1 Axes>"
            ],
            "image/png": "[encoded data removed]"
          },
          "metadata": {}
        }
      ]
    },
    {
      "cell_type": "markdown",
      "source": [],
      "metadata": {
        "id": "xhoxGQgp2Rw9"
      },
      "id": "xhoxGQgp2Rw9"
    },
    {
      "cell_type": "markdown",
      "source": [
        "# **Hypothesis Testing in Data Science**\n",
        "\n",
        "## Introduction\n",
        "\n",
        "Hypothesis testing is a statistical method used to make decisions based on data. It allows us to evaluate assumptions (hypotheses) about population parameters using sample data.\n",
        "\n",
        "In this notebook, we will cover:\n",
        "\n",
        "- Null and alternative hypotheses\n",
        "- t-test, chi-square test, and ANOVA\n",
        "- p-values and significance levels\n",
        "- Python implementation with real dataset examples\n"
      ],
      "metadata": {
        "id": "nKAbLVY42uxC"
      },
      "id": "nKAbLVY42uxC"
    },
    {
      "cell_type": "markdown",
      "source": [
        "## Theory\n",
        "\n",
        "### 1. Null and Alternative Hypotheses\n",
        "\n",
        "- **Null Hypothesis (H₀):** A statement of no effect or no difference.\n",
        "- **Alternative Hypothesis (H₁):** What you want to prove; a statement indicating an effect or difference.\n",
        "\n",
        "For example:\n",
        "- H₀: There is no difference in survival rates between male and female Titanic passengers.\n",
        "- H₁: There is a difference in survival rates.\n",
        "\n",
        "### 2. p-value\n",
        "\n",
        "- The p-value tells us the probability of obtaining results as extreme as the observed ones, assuming H₀ is true.\n",
        "- If **p-value < α (significance level, typically 0.05)**, we reject H₀.\n",
        "\n",
        "### 3. Types of Tests\n",
        "\n",
        "#### a. t-test\n",
        "- Compares **means** of two groups.\n",
        "- Assumes normality.\n",
        "- Used for small samples.\n",
        "\n",
        "#### b. Chi-square test (χ²)\n",
        "- Compares **categorical** variables.\n",
        "- Used to test independence or goodness of fit.\n",
        "\n",
        "#### c. ANOVA (Analysis of Variance)\n",
        "- Compares **means** across **3 or more** groups.\n",
        "- Tests whether at least one group mean is different.\n"
      ],
      "metadata": {
        "id": "VWnKQ9H92y1K"
      },
      "id": "VWnKQ9H92y1K"
    },
    {
      "cell_type": "markdown",
      "source": [
        "## Manual Example: t-Test\n",
        "\n",
        "### Question:\n",
        "A sample of 10 students taught using Method A had an average score of 72 with SD = 8.  \n",
        "A second sample of 10 students taught using Method B had an average score of 65 with SD = 10.  \n",
        "At α = 0.05, is there a significant difference?\n",
        "\n",
        "### Hypotheses:\n",
        "- H₀: μ₁ = μ₂ (no difference)\n",
        "- H₁: μ₁ ≠ μ₂\n",
        "\n",
        "### Test statistic:\n",
        "\n",
        "$$\n",
        "t = \\frac{\\bar{x}_1 - \\bar{x}_2}{\\sqrt{\\frac{s_1^2}{n_1} + \\frac{s_2^2}{n_2}}}\n",
        "= \\frac{72 - 65}{\\sqrt{\\frac{8^2}{10} + \\frac{10^2}{10}}}\n",
        "= \\frac{7}{\\sqrt{6.4 + 10}} = \\frac{7}{\\sqrt{16.4}} \\approx \\frac{7}{4.05} \\approx 1.73\n",
        "$$\n",
        "\n",
        "Using degrees of freedom ≈ 18, critical t ≈ 2.101 → **Do not reject H₀**\n",
        "\n",
        "****\n",
        "\n",
        "*You compare the p-value to a significance level (usually 0.05).*\n",
        "\n",
        "*If **p ≤ 0.05**, reject H₀ → There's evidence of a difference*\n",
        "\n",
        "*If **p > 0.05**, do not reject H₀ → No strong evidence of a difference*\n"
      ],
      "metadata": {
        "id": "46J3PcvC3T9B"
      },
      "id": "46J3PcvC3T9B"
    },
    {
      "cell_type": "code",
      "source": [
        "# Python Implementation: t-Test (Manual)\n",
        "\n",
        "import math\n",
        "\n",
        "# Data\n",
        "mean1, sd1, n1 = 72, 8, 10\n",
        "mean2, sd2, n2 = 65, 10, 10\n",
        "\n",
        "# t-test formula\n",
        "numerator = mean1 - mean2\n",
        "denominator = math.sqrt((sd1**2)/n1 + (sd2**2)/n2)\n",
        "t_stat = numerator / denominator\n",
        "\n",
        "print(f\"Manual t-statistic: {t_stat:.2f}\")\n"
      ],
      "metadata": {
        "colab": {
          "base_uri": "https://localhost:8080/"
        },
        "id": "_m-9cnZ85aG0",
        "outputId": "cd829d4c-1b1c-41a5-d3e5-5fb9a390dea9"
      },
      "id": "_m-9cnZ85aG0",
      "execution_count": null,
      "outputs": [
        {
          "output_type": "stream",
          "name": "stdout",
          "text": [
            "Manual t-statistic: 1.73\n"
          ]
        }
      ]
    },
    {
      "cell_type": "markdown",
      "source": [
        "# Python Implementation: t-Test, Chi-square, ANOVA using SciPy"
      ],
      "metadata": {
        "id": "oQ4wtY6C3k5R"
      },
      "id": "oQ4wtY6C3k5R"
    },
    {
      "cell_type": "code",
      "source": [
        "from scipy.stats import ttest_ind, chi2_contingency, f_oneway\n",
        "import seaborn as sns\n",
        "import pandas as pd\n",
        "\n",
        "# Load Titanic dataset\n",
        "df = sns.load_dataset('titanic').dropna(subset=['sex', 'survived'])\n",
        "\n",
        "# t-Test: Are survival rates different between males and females?\n",
        "male_survival = df[df['sex'] == 'male']['survived']\n",
        "female_survival = df[df['sex'] == 'female']['survived']\n",
        "\n",
        "t_stat, p_val = ttest_ind(male_survival, female_survival)\n",
        "print(f\"T-test p-value (Survival by Sex): {p_val:.90f}\")\n"
      ],
      "metadata": {
        "colab": {
          "base_uri": "https://localhost:8080/"
        },
        "id": "POZFu8VY5ww2",
        "outputId": "5e1ce804-1464-46a8-df3f-f339653f7373"
      },
      "id": "POZFu8VY5ww2",
      "execution_count": null,
      "outputs": [
        {
          "output_type": "stream",
          "name": "stdout",
          "text": [
            "T-test p-value (Survival by Sex): 0.000000000000000000000000000000000000000000000000000000000000000000001406066130880259392461\n"
          ]
        }
      ]
    },
    {
      "cell_type": "code",
      "source": [
        "# Chi-Square Test of Independence: Survival and Class\n",
        "\n",
        "contingency = pd.crosstab(df['survived'], df['class'])\n",
        "chi2, p_val, dof, expected = chi2_contingency(contingency)\n",
        "print(f\"Chi-square p-value (Survival vs Class): {p_val:.90f}\")\n"
      ],
      "metadata": {
        "colab": {
          "base_uri": "https://localhost:8080/"
        },
        "id": "ukB8cG5Y6ACz",
        "outputId": "8d72834d-96cb-4618-ce67-0fe958afa581"
      },
      "id": "ukB8cG5Y6ACz",
      "execution_count": null,
      "outputs": [
        {
          "output_type": "stream",
          "name": "stdout",
          "text": [
            "Chi-square p-value (Survival vs Class): 0.000000000000000000000045492517112987927181873490750489632676551464020787860810354677042894\n"
          ]
        }
      ]
    },
    {
      "cell_type": "markdown",
      "source": [
        "# 📊 Integrated Data Analysis: A Real-World Case Study\n",
        "\n",
        "## Introduction\n",
        "\n",
        "In this notebook, we apply key statistical concepts to real datasets to simulate practical data-science scenarios. We cover:\n",
        "\n",
        "1. **Descriptive Statistics** – Mean, median, mode, variance, etc.\n",
        "2. **Probability** – Events, permutations, conditional, distributions.\n",
        "3. **Hypothesis Testing** – t-test, chi-square, ANOVA.\n",
        "\n",
        "Datasets used:\n",
        "- **Titanic** (passenger data)\n",
        "- **Iris** (flower measurements)\n",
        "- **Custom simulated data** for demonstrating distributions\n",
        "\n",
        "Let's begin!\n"
      ],
      "metadata": {
        "id": "0wmAjkmp5vWf"
      },
      "id": "0wmAjkmp5vWf"
    },
    {
      "cell_type": "markdown",
      "source": [
        "# 1. 📈 Descriptive Statistics: Titanic Passenger Ages"
      ],
      "metadata": {
        "id": "PhNu991i-D-G"
      },
      "id": "PhNu991i-D-G"
    },
    {
      "cell_type": "code",
      "source": [
        "import seaborn as sns\n",
        "import pandas as pd\n",
        "import numpy as np\n",
        "\n",
        "df = sns.load_dataset('titanic')\n",
        "ages = df['age'].dropna()\n",
        "\n",
        "# Compute measures\n",
        "mean_age = ages.mean()\n",
        "median_age = ages.median()\n",
        "mode_age = ages.mode().iloc[0]\n",
        "var_age = ages.var(ddof=0)\n",
        "std_age = ages.std(ddof=0)\n",
        "q1, q3 = ages.quantile([0.25, 0.75])\n",
        "iqr_age = q3 - q1\n",
        "\n",
        "print(\"Descriptive Statistics for Titanic Passenger Ages\")\n",
        "print(\"-------------------------------------------------\")\n",
        "print(f\"Mean Age: {mean_age:.2f}\")\n",
        "print(f\"Median Age: {median_age:.2f}\")\n",
        "print(f\"Mode Age: {mode_age:.2f}\")\n",
        "print(f\"Variance: {var_age:.2f}\")\n",
        "print(f\"Standard Deviation: {std_age:.2f}\")\n",
        "print(f\"Q1 (25th percentile): {q1:.2f}\")\n",
        "print(f\"Q3 (75th percentile): {q3:.2f}\")\n",
        "print(f\"IQR (Q3 - Q1): {iqr_age:.2f}\")\n",
        "\n"
      ],
      "metadata": {
        "colab": {
          "base_uri": "https://localhost:8080/"
        },
        "id": "tTuuYJVt-PfI",
        "outputId": "32751300-56c1-4ba3-8795-1dd7989980ca"
      },
      "id": "tTuuYJVt-PfI",
      "execution_count": null,
      "outputs": [
        {
          "output_type": "stream",
          "name": "stdout",
          "text": [
            "Descriptive Statistics for Titanic Passenger Ages\n",
            "-------------------------------------------------\n",
            "Mean Age: 29.70\n",
            "Median Age: 28.00\n",
            "Mode Age: 24.00\n",
            "Variance: 210.72\n",
            "Standard Deviation: 14.52\n",
            "Q1 (25th percentile): 20.12\n",
            "Q3 (75th percentile): 38.00\n",
            "IQR (Q3 - Q1): 17.88\n"
          ]
        }
      ]
    },
    {
      "cell_type": "markdown",
      "source": [
        "**Interpretation:**\n",
        "- Mean, median, and mode of passenger ages\n",
        "- Variability via variance & standard deviation\n",
        "- Q1, Q3, and IQR identify age dispersion and potential outliers\n"
      ],
      "metadata": {
        "id": "K0KNPLOe-oH6"
      },
      "id": "K0KNPLOe-oH6"
    },
    {
      "cell_type": "markdown",
      "source": [
        "# 2. 🔢 Probability: Events & Conditional Probability"
      ],
      "metadata": {
        "id": "5h3w4trj_uP2"
      },
      "id": "5h3w4trj_uP2"
    },
    {
      "cell_type": "markdown",
      "source": [
        "**Q1: Probability a randomly selected passenger is female AND survived?**"
      ],
      "metadata": {
        "id": "IqZ_Iu8t_zJ8"
      },
      "id": "IqZ_Iu8t_zJ8"
    },
    {
      "cell_type": "code",
      "source": [
        "# Define events\n",
        "n = len(df)\n",
        "event_female = df['sex'] == 'female'\n",
        "event_survived = df['survived'] == 1\n",
        "p_female = event_female.mean()\n",
        "p_survived = event_survived.mean()\n",
        "p_both = (event_female & event_survived).mean()\n",
        "p_female_given_survived = p_both / p_survived\n",
        "\n",
        "print(\"Probability Calculations\")\n",
        "print(\"------------------------\")\n",
        "print(f\"P(Female): {p_female:.4f}\")\n",
        "print(f\"P(Survived): {p_survived:.4f}\")\n",
        "print(f\"P(Female and Survived): {p_both:.4f}\")\n",
        "print(f\"P(Female | Survived): {p_female_given_survived:.4f}\")\n",
        "\n"
      ],
      "metadata": {
        "colab": {
          "base_uri": "https://localhost:8080/"
        },
        "id": "ZtBvvKqd_2Zy",
        "outputId": "e476cbf2-7b89-45ba-c26b-7c209ed1162b"
      },
      "id": "ZtBvvKqd_2Zy",
      "execution_count": null,
      "outputs": [
        {
          "output_type": "stream",
          "name": "stdout",
          "text": [
            "Probability Calculations\n",
            "------------------------\n",
            "P(Female): 0.3524\n",
            "P(Survived): 0.3838\n",
            "P(Female and Survived): 0.2615\n",
            "P(Female | Survived): 0.6813\n"
          ]
        }
      ]
    },
    {
      "cell_type": "markdown",
      "source": [
        "**Q2: In a group of 5 passengers, in how many ways can we choose 2 survivors?**"
      ],
      "metadata": {
        "id": "eyz0oaaLBMJJ"
      },
      "id": "eyz0oaaLBMJJ"
    },
    {
      "cell_type": "code",
      "source": [
        "import math\n",
        "\n",
        "from itertools import combinations\n",
        "survivors = df[df['survived'] == 1]\n",
        "total_surv = len(survivors)\n",
        "\n",
        "# Calculating combinations\n",
        "comb = math.comb(total_surv, 2)\n",
        "comb\n"
      ],
      "metadata": {
        "colab": {
          "base_uri": "https://localhost:8080/"
        },
        "id": "tRPAwScbBLMN",
        "outputId": "847d1541-0c2a-4c75-d93d-2bf1f39b248c"
      },
      "id": "tRPAwScbBLMN",
      "execution_count": null,
      "outputs": [
        {
          "output_type": "execute_result",
          "data": {
            "text/plain": [
              "58311"
            ]
          },
          "metadata": {},
          "execution_count": 19
        }
      ]
    },
    {
      "cell_type": "markdown",
      "source": [
        "# 3. 🧪 Hypothesis Testing: Real-World Examples"
      ],
      "metadata": {
        "id": "MaMAnRlBBi05"
      },
      "id": "MaMAnRlBBi05"
    },
    {
      "cell_type": "markdown",
      "source": [
        "## t-Test: Passenger Fare vs Survival"
      ],
      "metadata": {
        "id": "4ptIMWEDBl2b"
      },
      "id": "4ptIMWEDBl2b"
    },
    {
      "cell_type": "code",
      "source": [
        "from scipy.stats import ttest_ind\n",
        "\n",
        "fare_survived = df[df['survived']==1]['fare'].dropna()\n",
        "fare_died = df[df['survived']==0]['fare'].dropna()\n",
        "t_stat, p_val = ttest_ind(fare_survived, fare_died)\n",
        "\n",
        "print(\"T-Test Results\")\n",
        "print(\"--------------\")\n",
        "print(f\"T-statistic: {t_stat:.4f}\")\n",
        "print(f\"P-value: {p_val:.20f}\")\n",
        "\n"
      ],
      "metadata": {
        "colab": {
          "base_uri": "https://localhost:8080/"
        },
        "id": "QqGyBz6EB3kT",
        "outputId": "0f2d8c57-d463-4e4a-a844-4b56431349ef"
      },
      "id": "QqGyBz6EB3kT",
      "execution_count": null,
      "outputs": [
        {
          "output_type": "stream",
          "name": "stdout",
          "text": [
            "T-Test Results\n",
            "--------------\n",
            "T-statistic: 7.9392\n",
            "P-value: 0.00000000000000612019\n"
          ]
        }
      ]
    },
    {
      "cell_type": "markdown",
      "source": [
        "**Interpretation:** Very small p-value ⇒ reject H₀; survivors paid significantly different fares than non-survivors.\n"
      ],
      "metadata": {
        "id": "cf7-8aISCjPx"
      },
      "id": "cf7-8aISCjPx"
    },
    {
      "cell_type": "markdown",
      "source": [
        "**B. Chi-square: Survival vs Class**"
      ],
      "metadata": {
        "id": "SHEA_ELoERsH"
      },
      "id": "SHEA_ELoERsH"
    },
    {
      "cell_type": "code",
      "source": [
        "cont = pd.crosstab(df['survived'], df['class'])\n",
        "from scipy.stats import chi2_contingency\n",
        "\n",
        "chi2, p_val_chi, *_ = chi2_contingency(cont)\n",
        "\n",
        "print(\"Chi-square Results\")\n",
        "print(\"--------------\")\n",
        "print(f\"Chi-square: {chi2:.4f}\")\n",
        "print(f\"P-value: {p_val_chi:.90f}\")\n"
      ],
      "metadata": {
        "colab": {
          "base_uri": "https://localhost:8080/"
        },
        "id": "j1LDaN7RCUSw",
        "outputId": "8f34ed10-1ae1-48eb-8db8-1dfbf6ddb2ee"
      },
      "id": "j1LDaN7RCUSw",
      "execution_count": null,
      "outputs": [
        {
          "output_type": "stream",
          "name": "stdout",
          "text": [
            "Chi-square Results\n",
            "--------------\n",
            "Chi-square: 102.8890\n",
            "P-value: 0.000000000000000000000045492517112987927181873490750489632676551464020787860810354677042894\n"
          ]
        }
      ]
    }
  ],
  "metadata": {
    "colab": {
      "provenance": [],
      "include_colab_link": true
    },
    "language_info": {
      "name": "python"
    },
    "kernelspec": {
      "name": "python3",
      "display_name": "Python 3"
    }
  },
  "nbformat": 4,
  "nbformat_minor": 5
}